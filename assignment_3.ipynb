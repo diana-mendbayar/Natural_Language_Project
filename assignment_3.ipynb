{
 "cells": [
  {
   "cell_type": "markdown",
   "source": "Task 1\n\nApply at least one model from another group to the dataset to classify the industry and compare the performances\n\nTask 2\n\nCreate a model using the word vector representation, how do you think this model performs compare to the others. Create a embeddings representation of each industry using spacy and find the closest industry using doc_1.similarity(industry_1)\n\nFinal task\n\nCreate a ReadMe.md on the base of your project to summarize the work, the challenges you faced and the new thing you want to explore",
   "metadata": {
    "tags": [],
    "cell_id": "00001-a6cce33c-67cf-40af-97ba-88ec7ea59b2f",
    "deepnote_cell_type": "markdown"
   }
  },
  {
   "cell_type": "code",
   "metadata": {
    "tags": [],
    "cell_id": "00001-e4e8914e-f7bc-469f-8c6d-8bf9a0b02d43",
    "deepnote_to_be_reexecuted": false,
    "source_hash": "948da54b",
    "execution_start": 1636134111071,
    "execution_millis": 14104,
    "deepnote_cell_type": "code"
   },
   "source": "import pandas as pd\nimport sys\nimport numpy as np\nimport os\nimport re\nimport random\nfrom sklearn.feature_extraction.text import TfidfVectorizer, CountVectorizer\nimport spacy",
   "execution_count": 1,
   "outputs": []
  },
  {
   "cell_type": "code",
   "metadata": {
    "tags": [],
    "cell_id": "00002-0617f2b4-651a-4212-a1a8-c8f59951ac94",
    "deepnote_to_be_reexecuted": false,
    "source_hash": "e1c19994",
    "execution_start": 1636134128557,
    "execution_millis": 2097,
    "deepnote_cell_type": "code"
   },
   "source": "\nclean_df = pd.read_csv(\"clean_set.csv\")\ncorpus = clean_df['clean_description'].values.astype(str)\n\n",
   "execution_count": 2,
   "outputs": []
  },
  {
   "cell_type": "code",
   "metadata": {
    "tags": [],
    "cell_id": "00003-c5c71587-ea07-48c6-90c7-c89a03df233b",
    "deepnote_to_be_reexecuted": false,
    "source_hash": "f2200ee",
    "execution_start": 1636134133124,
    "execution_millis": 15,
    "deepnote_cell_type": "code"
   },
   "source": "industry_df = pd.read_csv('industry_data.csv')\nindustry_names= industry_df['industry'].values\ntraining_corpus = industry_df['clean_description'].values.astype(str)\n",
   "execution_count": 3,
   "outputs": []
  },
  {
   "cell_type": "code",
   "metadata": {
    "tags": [],
    "cell_id": "00006-f3241f0f-1a13-4fbf-b72c-73613cc0a96e",
    "deepnote_to_be_reexecuted": false,
    "source_hash": "cb27a1c8",
    "execution_start": 1636134139341,
    "execution_millis": 1,
    "deepnote_cell_type": "code"
   },
   "source": "# Defining stopwords\nwith open(\"stopwords.txt\", \"r\") as f_in:\n    stopwords = [i.strip().lower() for i in f_in.readlines()]",
   "execution_count": 4,
   "outputs": []
  },
  {
   "cell_type": "markdown",
   "source": "Vectorizer",
   "metadata": {
    "tags": [],
    "cell_id": "00005-dda4f957-ab36-4fe4-8969-51ad53e98fdb",
    "deepnote_cell_type": "markdown"
   }
  },
  {
   "cell_type": "code",
   "metadata": {
    "tags": [],
    "cell_id": "00007-d1652b0f-246c-4671-a6d1-28daed925b8a",
    "deepnote_to_be_reexecuted": false,
    "source_hash": "10ac3b4a",
    "execution_start": 1636100637747,
    "execution_millis": 197824,
    "deepnote_cell_type": "code"
   },
   "source": "# Parameters that we can tune\nNGRAM = (1, 1) # Add more features when context is needed\nMIN_DF = 2 # Ignore terms that appear less than \nMAX_DF = 0.4 # Ignore terms appear more than 30%\nMAX_FEATURES = 4000 # Define the lenght of the vocabulary",
   "execution_count": null,
   "outputs": []
  },
  {
   "cell_type": "code",
   "metadata": {
    "tags": [],
    "cell_id": "00005-99794e2d-4055-46ff-8fdc-cfd4dffc1efd",
    "deepnote_to_be_reexecuted": false,
    "source_hash": "b9ee2362",
    "execution_start": 1636100637759,
    "execution_millis": 197825,
    "deepnote_cell_type": "code"
   },
   "source": "from sklearn.feature_extraction.text import TfidfVectorizer\nidf_vec = TfidfVectorizer(\n    tokenizer=lambda s: s.split(),\n    stop_words=stopwords,\n    min_df=MIN_DF,\n    max_df=MAX_DF,\n    #max_features=MAX_FEATURES,\n    use_idf=True,\n    smooth_idf=True\n)",
   "execution_count": null,
   "outputs": []
  },
  {
   "cell_type": "code",
   "metadata": {
    "tags": [],
    "cell_id": "00007-2bfa5ef7-3670-454e-86a9-7cee04c78468",
    "deepnote_to_be_reexecuted": false,
    "source_hash": "8171901",
    "execution_start": 1636100637803,
    "execution_millis": 45,
    "deepnote_cell_type": "code"
   },
   "source": "industry=idf_vec.fit(training_corpus)\nindustry_vectors=industry.transform(training_corpus)",
   "execution_count": null,
   "outputs": [
    {
     "name": "stderr",
     "text": "/shared-libs/python3.7/py/lib/python3.7/site-packages/sklearn/feature_extraction/text.py:517: UserWarning: The parameter 'token_pattern' will not be used since 'tokenizer' is not None'\n  \"The parameter 'token_pattern' will not be used\"\n",
     "output_type": "stream"
    }
   ]
  },
  {
   "cell_type": "code",
   "metadata": {
    "tags": [],
    "cell_id": "00010-c6dd6878-b27e-4a89-b8fe-36fbb4eea1b0",
    "deepnote_to_be_reexecuted": false,
    "source_hash": "a503d8f9",
    "execution_start": 1636100637848,
    "execution_millis": 8251,
    "deepnote_cell_type": "code"
   },
   "source": "employer_vectors=idf_vec.transform(corpus)",
   "execution_count": null,
   "outputs": []
  },
  {
   "cell_type": "markdown",
   "source": "### Training dataset with K-Means",
   "metadata": {
    "tags": [],
    "is_collapsed": false,
    "cell_id": "00016-3b37533e-b205-4653-a68d-28b58e01ffa5",
    "deepnote_cell_type": "text-cell-h3"
   }
  },
  {
   "cell_type": "code",
   "metadata": {
    "tags": [],
    "cell_id": "00009-733681bb-36a8-4899-b7a0-4c5391ff3945",
    "deepnote_to_be_reexecuted": false,
    "source_hash": "c8c5cc97",
    "execution_start": 1636100646104,
    "execution_millis": 734,
    "deepnote_cell_type": "code"
   },
   "source": "from sklearn.cluster import KMeans\nkmeans=KMeans(n_clusters=13).fit(industry_vectors)",
   "execution_count": null,
   "outputs": []
  },
  {
   "cell_type": "code",
   "metadata": {
    "tags": [],
    "cell_id": "00012-03591fa4-ed39-4ec3-a07f-a513d6c23881",
    "deepnote_to_be_reexecuted": false,
    "source_hash": "996e5b4d",
    "execution_start": 1636100646843,
    "execution_millis": 404,
    "deepnote_cell_type": "code"
   },
   "source": "prediction=kmeans.predict(employer_vectors)",
   "execution_count": null,
   "outputs": []
  },
  {
   "cell_type": "code",
   "metadata": {
    "tags": [],
    "cell_id": "00012-79190f76-3cab-4648-ac6d-aa55fe7adc2e",
    "deepnote_to_be_reexecuted": false,
    "source_hash": "65ad2281",
    "execution_start": 1636100647247,
    "execution_millis": 12,
    "deepnote_cell_type": "code"
   },
   "source": "len(prediction)",
   "execution_count": null,
   "outputs": [
    {
     "output_type": "execute_result",
     "execution_count": 11,
     "data": {
      "text/plain": "20000"
     },
     "metadata": {}
    }
   ]
  },
  {
   "cell_type": "code",
   "metadata": {
    "tags": [],
    "cell_id": "00012-b7e6af03-f2f6-4f3e-a6a6-1461e7c19c30",
    "deepnote_to_be_reexecuted": false,
    "source_hash": "bcca4b50",
    "execution_start": 1636100647270,
    "execution_millis": 43,
    "deepnote_cell_type": "code"
   },
   "source": "kmeans.cluster_centers_",
   "execution_count": null,
   "outputs": [
    {
     "output_type": "execute_result",
     "execution_count": 12,
     "data": {
      "text/plain": "array([[0.        , 0.008433  , 0.        , ..., 0.        , 0.        ,\n        0.0231945 ],\n       [0.        , 0.        , 0.        , ..., 0.        , 0.        ,\n        0.        ],\n       [0.        , 0.        , 0.        , ..., 0.        , 0.        ,\n        0.        ],\n       ...,\n       [0.        , 0.        , 0.        , ..., 0.        , 0.        ,\n        0.        ],\n       [0.        , 0.        , 0.        , ..., 0.        , 0.01149929,\n        0.01149929],\n       [0.        , 0.        , 0.02666259, ..., 0.        , 0.        ,\n        0.        ]])"
     },
     "metadata": {}
    }
   ]
  },
  {
   "cell_type": "code",
   "metadata": {
    "tags": [],
    "cell_id": "00014-283fa05f-e8a7-4066-9a70-bf42740bfad5",
    "deepnote_to_be_reexecuted": false,
    "source_hash": "869e01f8",
    "execution_start": 1636100647312,
    "execution_millis": 198233,
    "deepnote_cell_type": "code"
   },
   "source": "kmeans_prediction=[]",
   "execution_count": null,
   "outputs": []
  },
  {
   "cell_type": "code",
   "metadata": {
    "tags": [],
    "cell_id": "00014-88f49bcf-418e-49ae-86df-b1d8fb1e925b",
    "deepnote_to_be_reexecuted": false,
    "source_hash": "48a2f7b1",
    "execution_start": 1636100647313,
    "execution_millis": 46,
    "deepnote_cell_type": "code"
   },
   "source": "for i in prediction:\n    kmeans_prediction.append(industry_names[i])",
   "execution_count": null,
   "outputs": []
  },
  {
   "cell_type": "code",
   "metadata": {
    "tags": [],
    "cell_id": "00013-f6a346aa-e1f7-4122-99b7-18cfb3940ec7",
    "deepnote_to_be_reexecuted": false,
    "source_hash": "7dc2c3d6",
    "execution_start": 1636100647360,
    "execution_millis": 1,
    "deepnote_cell_type": "code"
   },
   "source": "clean_df['KMeans']=kmeans_prediction",
   "execution_count": null,
   "outputs": []
  },
  {
   "cell_type": "code",
   "metadata": {
    "tags": [],
    "cell_id": "00014-ccb48f38-4130-4d9d-a5e9-200d9288edf7",
    "deepnote_to_be_reexecuted": false,
    "source_hash": "1cb21d10",
    "execution_start": 1636100647361,
    "execution_millis": 1546,
    "deepnote_cell_type": "code"
   },
   "source": "clean_df.to_csv('clean_set.csv', index=False)",
   "execution_count": null,
   "outputs": []
  },
  {
   "cell_type": "markdown",
   "source": "### Word Vector Representation",
   "metadata": {
    "tags": [],
    "is_collapsed": false,
    "cell_id": "00014-badf1935-bf9d-4816-a54a-0d613d03668c",
    "deepnote_cell_type": "text-cell-h3"
   }
  },
  {
   "cell_type": "code",
   "source": "!python -m spacy download en_core_web_md",
   "metadata": {
    "tags": [],
    "cell_id": "00020-2dfbeecf-6ec5-4ecc-8ed5-767cf43f2937",
    "deepnote_to_be_reexecuted": false,
    "source_hash": "e8bd7f76",
    "execution_start": 1636134789327,
    "execution_millis": 16012,
    "deepnote_cell_type": "code"
   },
   "outputs": [
    {
     "name": "stdout",
     "text": "2021-11-05 17:53:11.021979: W tensorflow/stream_executor/platform/default/dso_loader.cc:60] Could not load dynamic library 'libcudart.so.11.0'; dlerror: libcudart.so.11.0: cannot open shared object file: No such file or directory\n2021-11-05 17:53:11.022036: I tensorflow/stream_executor/cuda/cudart_stub.cc:29] Ignore above cudart dlerror if you do not have a GPU set up on your machine.\nCollecting en-core-web-md==3.1.0\n  Downloading https://github.com/explosion/spacy-models/releases/download/en_core_web_md-3.1.0/en_core_web_md-3.1.0-py3-none-any.whl (45.4 MB)\n\u001b[K     |████████████████████████████████| 45.4 MB 42.9 MB/s \n\u001b[?25hRequirement already satisfied: spacy<3.2.0,>=3.1.0 in /shared-libs/python3.7/py/lib/python3.7/site-packages (from en-core-web-md==3.1.0) (3.1.3)\nRequirement already satisfied: srsly<3.0.0,>=2.4.1 in /shared-libs/python3.7/py/lib/python3.7/site-packages (from spacy<3.2.0,>=3.1.0->en-core-web-md==3.1.0) (2.4.1)\nRequirement already satisfied: typer<0.5.0,>=0.3.0 in /shared-libs/python3.7/py/lib/python3.7/site-packages (from spacy<3.2.0,>=3.1.0->en-core-web-md==3.1.0) (0.4.0)\nRequirement already satisfied: cymem<2.1.0,>=2.0.2 in /shared-libs/python3.7/py/lib/python3.7/site-packages (from spacy<3.2.0,>=3.1.0->en-core-web-md==3.1.0) (2.0.5)\nRequirement already satisfied: jinja2 in /shared-libs/python3.7/py-core/lib/python3.7/site-packages (from spacy<3.2.0,>=3.1.0->en-core-web-md==3.1.0) (3.0.2)\nRequirement already satisfied: numpy>=1.15.0 in /shared-libs/python3.7/py/lib/python3.7/site-packages (from spacy<3.2.0,>=3.1.0->en-core-web-md==3.1.0) (1.19.5)\nRequirement already satisfied: spacy-legacy<3.1.0,>=3.0.8 in /shared-libs/python3.7/py/lib/python3.7/site-packages (from spacy<3.2.0,>=3.1.0->en-core-web-md==3.1.0) (3.0.8)\nRequirement already satisfied: catalogue<2.1.0,>=2.0.6 in /shared-libs/python3.7/py/lib/python3.7/site-packages (from spacy<3.2.0,>=3.1.0->en-core-web-md==3.1.0) (2.0.6)\nRequirement already satisfied: pydantic!=1.8,!=1.8.1,<1.9.0,>=1.7.4 in /shared-libs/python3.7/py/lib/python3.7/site-packages (from spacy<3.2.0,>=3.1.0->en-core-web-md==3.1.0) (1.8.2)\nRequirement already satisfied: wasabi<1.1.0,>=0.8.1 in /shared-libs/python3.7/py/lib/python3.7/site-packages (from spacy<3.2.0,>=3.1.0->en-core-web-md==3.1.0) (0.8.2)\nRequirement already satisfied: requests<3.0.0,>=2.13.0 in /shared-libs/python3.7/py/lib/python3.7/site-packages (from spacy<3.2.0,>=3.1.0->en-core-web-md==3.1.0) (2.26.0)\nRequirement already satisfied: blis<0.8.0,>=0.4.0 in /shared-libs/python3.7/py/lib/python3.7/site-packages (from spacy<3.2.0,>=3.1.0->en-core-web-md==3.1.0) (0.7.4)\nRequirement already satisfied: murmurhash<1.1.0,>=0.28.0 in /shared-libs/python3.7/py/lib/python3.7/site-packages (from spacy<3.2.0,>=3.1.0->en-core-web-md==3.1.0) (1.0.5)\nRequirement already satisfied: preshed<3.1.0,>=3.0.2 in /shared-libs/python3.7/py/lib/python3.7/site-packages (from spacy<3.2.0,>=3.1.0->en-core-web-md==3.1.0) (3.0.5)\nRequirement already satisfied: thinc<8.1.0,>=8.0.9 in /shared-libs/python3.7/py/lib/python3.7/site-packages (from spacy<3.2.0,>=3.1.0->en-core-web-md==3.1.0) (8.0.10)\nRequirement already satisfied: typing-extensions<4.0.0.0,>=3.7.4 in /shared-libs/python3.7/py-core/lib/python3.7/site-packages (from spacy<3.2.0,>=3.1.0->en-core-web-md==3.1.0) (3.10.0.2)\nRequirement already satisfied: tqdm<5.0.0,>=4.38.0 in /shared-libs/python3.7/py/lib/python3.7/site-packages (from spacy<3.2.0,>=3.1.0->en-core-web-md==3.1.0) (4.62.3)\nRequirement already satisfied: setuptools in /root/venv/lib/python3.7/site-packages (from spacy<3.2.0,>=3.1.0->en-core-web-md==3.1.0) (58.1.0)\nRequirement already satisfied: packaging>=20.0 in /shared-libs/python3.7/py-core/lib/python3.7/site-packages (from spacy<3.2.0,>=3.1.0->en-core-web-md==3.1.0) (21.0)\nRequirement already satisfied: pathy>=0.3.5 in /shared-libs/python3.7/py/lib/python3.7/site-packages (from spacy<3.2.0,>=3.1.0->en-core-web-md==3.1.0) (0.6.0)\nRequirement already satisfied: zipp>=0.5 in /shared-libs/python3.7/py-core/lib/python3.7/site-packages (from catalogue<2.1.0,>=2.0.6->spacy<3.2.0,>=3.1.0->en-core-web-md==3.1.0) (3.6.0)\nRequirement already satisfied: pyparsing>=2.0.2 in /shared-libs/python3.7/py-core/lib/python3.7/site-packages (from packaging>=20.0->spacy<3.2.0,>=3.1.0->en-core-web-md==3.1.0) (2.4.7)\nRequirement already satisfied: smart-open<6.0.0,>=5.0.0 in /shared-libs/python3.7/py/lib/python3.7/site-packages (from pathy>=0.3.5->spacy<3.2.0,>=3.1.0->en-core-web-md==3.1.0) (5.2.1)\nRequirement already satisfied: urllib3<1.27,>=1.21.1 in /shared-libs/python3.7/py/lib/python3.7/site-packages (from requests<3.0.0,>=2.13.0->spacy<3.2.0,>=3.1.0->en-core-web-md==3.1.0) (1.26.7)\nRequirement already satisfied: idna<4,>=2.5 in /shared-libs/python3.7/py-core/lib/python3.7/site-packages (from requests<3.0.0,>=2.13.0->spacy<3.2.0,>=3.1.0->en-core-web-md==3.1.0) (3.3)\nRequirement already satisfied: charset-normalizer~=2.0.0 in /shared-libs/python3.7/py/lib/python3.7/site-packages (from requests<3.0.0,>=2.13.0->spacy<3.2.0,>=3.1.0->en-core-web-md==3.1.0) (2.0.7)\nRequirement already satisfied: certifi>=2017.4.17 in /shared-libs/python3.7/py/lib/python3.7/site-packages (from requests<3.0.0,>=2.13.0->spacy<3.2.0,>=3.1.0->en-core-web-md==3.1.0) (2021.10.8)\nRequirement already satisfied: click<9.0.0,>=7.1.1 in /shared-libs/python3.7/py/lib/python3.7/site-packages (from typer<0.5.0,>=0.3.0->spacy<3.2.0,>=3.1.0->en-core-web-md==3.1.0) (8.0.3)\nRequirement already satisfied: importlib-metadata in /shared-libs/python3.7/py-core/lib/python3.7/site-packages (from click<9.0.0,>=7.1.1->typer<0.5.0,>=0.3.0->spacy<3.2.0,>=3.1.0->en-core-web-md==3.1.0) (4.8.1)\nRequirement already satisfied: MarkupSafe>=2.0 in /shared-libs/python3.7/py-core/lib/python3.7/site-packages (from jinja2->spacy<3.2.0,>=3.1.0->en-core-web-md==3.1.0) (2.0.1)\nInstalling collected packages: en-core-web-md\nSuccessfully installed en-core-web-md-3.1.0\n\u001b[33mWARNING: You are using pip version 21.2.4; however, version 21.3.1 is available.\nYou should consider upgrading via the '/root/venv/bin/python -m pip install --upgrade pip' command.\u001b[0m\n\u001b[38;5;2m✔ Download and installation successful\u001b[0m\nYou can now load the package via spacy.load('en_core_web_md')\n",
     "output_type": "stream"
    }
   ],
   "execution_count": 20
  },
  {
   "cell_type": "code",
   "source": "model = spacy.load('en_core_web_md', disable=['parser', 'ner'])",
   "metadata": {
    "tags": [],
    "cell_id": "00021-7b7abf1f-00f2-441b-8f9d-a8272013337f",
    "deepnote_to_be_reexecuted": false,
    "source_hash": "3641a862",
    "execution_start": 1636134810129,
    "execution_millis": 1655,
    "deepnote_cell_type": "code"
   },
   "outputs": [],
   "execution_count": 21
  },
  {
   "cell_type": "code",
   "metadata": {
    "tags": [],
    "cell_id": "00022-44187a51-3260-4d66-ab4c-77480280def8",
    "deepnote_to_be_reexecuted": false,
    "source_hash": "3f4ccd52",
    "execution_start": 1636134247247,
    "execution_millis": 0,
    "deepnote_cell_type": "code"
   },
   "source": "# Parameters that we can tune\nNGRAM = (1, 1) # Add more features when context is needed\nMIN_DF = 2 # Ignore terms that appear less than \nMAX_DF = 0.4 # Ignore terms appear more than 30%\n#MAX_FEATURES = 4000 # Define the lenght of the vocabulary",
   "execution_count": 6,
   "outputs": []
  },
  {
   "cell_type": "code",
   "metadata": {
    "tags": [],
    "cell_id": "00022-81066ee5-afeb-4c6d-aa6a-f8847931f008",
    "deepnote_to_be_reexecuted": false,
    "source_hash": "1bf2b9f0",
    "execution_start": 1636134249253,
    "execution_millis": 2,
    "deepnote_cell_type": "code"
   },
   "source": "from sklearn.feature_extraction.text import TfidfVectorizer\nvectorizer = TfidfVectorizer(\n    tokenizer=lambda s: s.split(),\n    stop_words=stopwords,\n    min_df=MIN_DF,\n    max_df=MAX_DF,\n    #max_features=MAX_FEATURES,\n    use_idf=True,\n    smooth_idf=True\n)",
   "execution_count": 7,
   "outputs": []
  },
  {
   "cell_type": "code",
   "metadata": {
    "tags": [],
    "cell_id": "00022-80c319ef-abe1-4a68-8d70-a1ebe14c26a5",
    "deepnote_to_be_reexecuted": false,
    "source_hash": "ccfce351",
    "execution_start": 1636134271935,
    "execution_millis": 8859,
    "deepnote_cell_type": "code"
   },
   "source": "employer_vectors=vectorizer.fit_transform(corpus)",
   "execution_count": 8,
   "outputs": []
  },
  {
   "cell_type": "code",
   "metadata": {
    "tags": [],
    "cell_id": "00025-bf4e9ff2-a42f-4024-ae60-8bd299e74d74",
    "deepnote_to_be_reexecuted": false,
    "source_hash": "9bb101bb",
    "execution_start": 1636102848571,
    "execution_millis": 0,
    "deepnote_cell_type": "code"
   },
   "source": "#employer=vectorizer.transform(corpus)",
   "execution_count": null,
   "outputs": []
  },
  {
   "cell_type": "code",
   "metadata": {
    "tags": [],
    "cell_id": "00020-c363e1de-51b2-4eed-8436-f35847b403ca",
    "deepnote_to_be_reexecuted": false,
    "source_hash": "95f29e26",
    "execution_start": 1636134457666,
    "execution_millis": 45773,
    "deepnote_cell_type": "code"
   },
   "source": "import numpy as np\ntop_n = 20\n\nwords = np.array(vectorizer.get_feature_names())\nres = []\nfor i in range(employer_vectors.shape[0]):\n    # Will get the words that are in the TFIDF which have the higher score\n    # We use -vectors because the order is ascending\n    s = np.argsort(np.asarray(-employer_vectors[i, :].todense()).flatten())\n    res.append(\" \".join(words[s[:top_n]]))",
   "execution_count": 10,
   "outputs": []
  },
  {
   "cell_type": "code",
   "source": "len(res)",
   "metadata": {
    "tags": [],
    "cell_id": "00028-b4b7a6fd-e999-4d46-9b1c-855072778ac8",
    "deepnote_to_be_reexecuted": false,
    "source_hash": "7388e03d",
    "execution_start": 1636134512750,
    "execution_millis": 5,
    "deepnote_cell_type": "code"
   },
   "outputs": [
    {
     "output_type": "execute_result",
     "execution_count": 11,
     "data": {
      "text/plain": "20000"
     },
     "metadata": {}
    }
   ],
   "execution_count": 11
  },
  {
   "cell_type": "code",
   "source": "industry_vectors=vectorizer.fit_transform(training_corpus)",
   "metadata": {
    "tags": [],
    "cell_id": "00033-5b384b55-1ca9-4fc1-9de0-84ad7b04758c",
    "deepnote_to_be_reexecuted": false,
    "source_hash": "33564449",
    "execution_start": 1636134524461,
    "execution_millis": 48,
    "deepnote_cell_type": "code"
   },
   "outputs": [],
   "execution_count": 12
  },
  {
   "cell_type": "code",
   "source": "top_n = 20\n\nwords = np.array(vectorizer.get_feature_names())\nindustry = []\nfor i in range(industry_vectors.shape[0]):\n    # Will get the words that are in the TFIDF which have the higher score\n    # We use -vectors because the order is ascending\n    s = np.argsort(np.asarray(-industry_vectors[i, :].todense()).flatten())\n    industry.append(\" \".join(words[s[:top_n]]))",
   "metadata": {
    "tags": [],
    "cell_id": "00034-71dc8c31-cab3-4107-925a-aa07c6558ec4",
    "deepnote_to_be_reexecuted": false,
    "source_hash": "41048bc1",
    "execution_start": 1636134551675,
    "execution_millis": 8,
    "deepnote_cell_type": "code"
   },
   "outputs": [],
   "execution_count": 14
  },
  {
   "cell_type": "code",
   "source": "len(industry)",
   "metadata": {
    "tags": [],
    "cell_id": "00029-980d3824-2b23-4936-80de-b030efdc4fe7",
    "deepnote_to_be_reexecuted": false,
    "source_hash": "1548d72d",
    "execution_start": 1636134580191,
    "execution_millis": 5,
    "deepnote_cell_type": "code"
   },
   "outputs": [
    {
     "output_type": "execute_result",
     "execution_count": 15,
     "data": {
      "text/plain": "13"
     },
     "metadata": {}
    }
   ],
   "execution_count": 15
  },
  {
   "cell_type": "code",
   "source": "#embedding words of industry \nindustry_model=[]\nfor i in industry:\n        industry_model.append(model(i))",
   "metadata": {
    "tags": [],
    "cell_id": "00030-ee03e3e7-d12f-4569-8d5f-3b000b727ff8",
    "deepnote_to_be_reexecuted": false,
    "source_hash": "88030c5c",
    "execution_start": 1636134827781,
    "execution_millis": 75,
    "deepnote_cell_type": "code"
   },
   "outputs": [],
   "execution_count": 22
  },
  {
   "cell_type": "code",
   "metadata": {
    "tags": [],
    "cell_id": "00024-500efe76-1382-4e24-a27c-3e43a5f77961",
    "deepnote_to_be_reexecuted": false,
    "source_hash": "2d6a3047",
    "execution_start": 1636134864819,
    "execution_millis": 104704,
    "deepnote_cell_type": "code"
   },
   "source": "industry_prediction=[]\n#employer_model=[]\n\nfor i in res:\n    employer_model=model(i)\n\n    similarity_model=[]\n    #len(employer_model)\n    #industry_model=[]\n    for k in industry_model:\n        #employer_model.append(model(i))\n        \n        similarity_model.append(employer_model.similarity(k))     \n    similar=np.argmax(similarity_model)                                     #getting highest similarity\n    industry_prediction.append(industry_names[similar])",
   "execution_count": 23,
   "outputs": []
  },
  {
   "cell_type": "code",
   "source": "clean_df[\"embedding_prediction\"] = industry_prediction",
   "metadata": {
    "tags": [],
    "cell_id": "00033-a6c615ba-0486-4610-b8cc-b61c00bdbd0f",
    "deepnote_to_be_reexecuted": false,
    "source_hash": "f907268f",
    "execution_start": 1636134973282,
    "execution_millis": 2,
    "deepnote_cell_type": "code"
   },
   "outputs": [],
   "execution_count": 24
  },
  {
   "cell_type": "code",
   "source": "clean_df.to_csv('clean_set.csv', index=False)",
   "metadata": {
    "tags": [],
    "cell_id": "00035-3232585e-670c-4bd1-8985-d7913a3f3698",
    "deepnote_to_be_reexecuted": false,
    "source_hash": "1cb21d10",
    "execution_start": 1636134977345,
    "execution_millis": 1488,
    "deepnote_cell_type": "code"
   },
   "outputs": [],
   "execution_count": 25
  },
  {
   "cell_type": "markdown",
   "source": "<a style='text-decoration:none;line-height:16px;display:flex;color:#5B5B62;padding:10px;justify-content:end;' href='https://deepnote.com?utm_source=created-in-deepnote-cell&projectId=fb3de8ef-fb47-4eee-bfce-0a5c05122f97' target=\"_blank\">\n<img alt='Created in deepnote.com' style='display:inline;max-height:16px;margin:0px;margin-right:7.5px;' src='data:image/svg+xml;base64,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' > </img>\nCreated in <span style='font-weight:600;margin-left:4px;'>Deepnote</span></a>",
   "metadata": {
    "tags": [],
    "created_in_deepnote_cell": true,
    "deepnote_cell_type": "markdown"
   }
  }
 ],
 "nbformat": 4,
 "nbformat_minor": 2,
 "metadata": {
  "orig_nbformat": 2,
  "deepnote": {
   "is_reactive": false
  },
  "deepnote_notebook_id": "c1a4a386-5737-478c-afd4-e160ea465f9a",
  "deepnote_execution_queue": []
 }
}