{
 "cells": [
  {
   "cell_type": "code",
   "metadata": {
    "tags": [],
    "cell_id": "00000-c1e9afda-f462-48bf-8839-09495214d6d0",
    "deepnote_to_be_reexecuted": false,
    "source_hash": "c510a8dd",
    "execution_start": 1635901769555,
    "execution_millis": 11655,
    "deepnote_cell_type": "code"
   },
   "source": "import pandas as pd \nimport random\nimport regex as re\nimport unicodedata\nimport nltk\nimport spacy\nimport string",
   "execution_count": null,
   "outputs": []
  },
  {
   "cell_type": "code",
   "metadata": {
    "tags": [],
    "cell_id": "00001-63344a19-b711-495c-971a-3b16d003b93d",
    "deepnote_to_be_reexecuted": false,
    "source_hash": "bbab8e88",
    "execution_start": 1635901781241,
    "execution_millis": 1503,
    "deepnote_cell_type": "code"
   },
   "source": "dataset=pd.read_csv('employer_raw_data.csv')",
   "execution_count": null,
   "outputs": []
  },
  {
   "cell_type": "code",
   "metadata": {
    "tags": [],
    "cell_id": "00005-5b2086b6-1889-413d-a9e1-cb984f26e4d1",
    "deepnote_to_be_reexecuted": false,
    "source_hash": "59470e72",
    "execution_start": 1635901782751,
    "execution_millis": 47,
    "deepnote_cell_type": "code"
   },
   "source": "dataset.head()",
   "execution_count": null,
   "outputs": [
    {
     "output_type": "execute_result",
     "execution_count": 3,
     "data": {
      "application/vnd.deepnote.dataframe.v2+json": {
       "row_count": 5,
       "column_count": 2,
       "columns": [
        {
         "name": "employers",
         "dtype": "object",
         "stats": {
          "unique_count": 5,
          "nan_count": 0,
          "categories": [
           {
            "name": "ploughshares blog",
            "count": 1
           },
           {
            "name": "american doctors online",
            "count": 1
           },
           {
            "name": "3 others",
            "count": 3
           }
          ]
         }
        },
        {
         "name": "description",
         "dtype": "object",
         "stats": {
          "unique_count": 5,
          "nan_count": 0,
          "categories": [
           {
            "name": "Deeply depressed and living in a Europe ravaged by war, famine, and cholera, Mary Wollstonecraft Shelley was inspired to write an eerily prescient novel chronicling the end of the world that manages somehow to be both bleak and hopeful. In the face of seemingly insurmountable tragedy, perhaps that is. As both a poet and a songwriter, I’m constantly journeying between two distinct ways of making art out of words. Working simultaneously in multiple disciplines has its challenges, but for me, poetry and songwriting are inextricably linked, and they feed each other. As I put it in the above blog, it is the reign of death which accounts for the spread of sin and not vice versa. Interwoven throughout chapter 5 is the universally observable truth that death reigns (“death spread to all men” v. 12; “death reigned” v. 14; “the many died” v. 15; “death reigned through the one” v. 17; “as sin ... Author: Cynthia R. Wallace |. Jul. 14. 2021. Categories: Critical Essays. No comments. Joy Harjo’s signature project as the twenty-third U.S. Poet Laureate is one of mapmaking: gathering poems by forty-seven Native Nations poets in a cartography of voice. This poetic map acknowledges other maps of colonial violence and erasure, and while ... Online learning through Ploughshares Bible Institute (PBI) – an alternative to traditional Christian education. Classes and seminars at The Carpenter’s House – for local students and the Forging Ploughshares community. The blog, Walking Truth, provides theological insight to a broad audience on living out Christianity. We accept submissions to the journal from June 1, to January 15, at noon EST. We greatly prefer online submissions—some submission categories require it. Please see the following pages for full submission guidelines: To submit to the journal, please see our guidelines here. To submit to the Ploughshares Solos series, featuring longer works of fiction and nonfiction, see the guidelines here. Ploughshares. Emerson College. 120 Boylston St. Boston, MA 02116-4624. Mail your manuscript in a page-size manila envelope with your full name and address written on the outside (at least an inch down from the top, to account for USPS barcodes). Identify the genre of your manuscript on the outside of the envelope. Ploughshares has published quality literature since 1971. Best known for our award winning Ploughshares literary journal, we also publish Ploughshares Solos, digital-first long stories and essays, and this lively literary blog. Since 1989 we have been based at Emerson College in downtown Boston. Ploughshares has published quality literature since 1971. Our award-winning literary journal is published four times a year; our lively literary blog publishes new writing daily. Since 1989, we have been based at Emerson College in downtown Boston. Ploughshares also publishes longform stories and essays, known as Ploughshares Solos (collected in the journal's fall issue and published separately as e-books), all of which are edited by the editor-in-chief, Ladette Randolph, and a literary blog, launched in 2009, which publishes critical and personal essays, interviews, and book reviews. Aug 21st, 2021 by forgingploughshares. Paul Axton Preaches - The deadly belief in conspiracy theories is a type of a belief in the satanic conspiracy that there is life in the law - which kills. The evangelical religion and its key theologian promote this lie as the cure which causes many to miss the true cure. Colleen Abel is the author of Housewifery, a chapbook (dancing girl press, 2013).A former Diane Middlebrook Poetry Fellow, her work has appeared in numerous venues including The Southern Review, Mid-American Review, West Branch, The Journal, Cimarron Review, Verse Daily, Cincinnati Review, Ploughshares’ blog, and elsewhere. She holds a PhD from UW-Milwaukee and is currently the Joan Beebe ... Ploughshares is best known for our print literary journal, but we also publish the digital-first Ploughshares Solos series, as well as the Ploughshares Blog and Newsletter. Published four times per year, the journal features fiction, nonfiction, and poetry as well as a Look2 essay , an essay series that seeks to publish pieces about ... Ploughshares Blog January 24, 2019 Austin Reed’s 1858 book evades generic stability, blending memoir with picaresque, bildungsroman, jeremiad, and others to reveal the injustice of the justice ... The latest tweets from @pshares Confessions of an Heiress: A Tongue-in-Chic Peek Behind the Pose - Kindle edition by Hilton, Paris, Vespa, Jeff, Ginsberg, Merle. Download it once and read it on your Kindle device, PC, phones or tablets. Use features like bookmarks, note taking and highlighting while reading Confessions of an Heiress: A Tongue-in-Chic Peek Behind the Pose.",
            "count": 1
           },
           {
            "name": "Stand up for your rights, enjoy your life, be free, get back to work, and live the American Dream with the guidance of America’s Frontline Doctors. If you have been fired, harassed, or fear persecution contact us for legal support to fight back and enforce your rights. American Doctors Online accelerates each stage of the Care Delivery Process with patented processes in Telehealth. ADOL delivers telemedicine / telehealth solutions including phone conferencing, web conferencing, video conferencing, and streaming options combined. We meet healthcare organizations' demands for hosting educational sessions ... The system can support any plurality of healthcare practitioners’ terminals and patient terminals as a way to bring patients face-to-face with physicians and provide medical consultation— — even during off-hours. PDRx delivers its revolutionary healthcare service through an agreement with American Doctors Online™ (ADOL). America Frontline Doctors admin 2020-07-31T21:53:28+00:00 Restoring Peace & Protecting from harm American life has fallen casualty to a massive disinformation campaign. Your tax-deductible contribution to the American Health Legal Foundation help continue the fight to stop the war on doctors and patients. Donate Online NOW America's Frontline Doctors. 99,402 likes · 22,805 talking about this. Empowering patients and physicians with independent, evidence-based medicine. STAY HOME & get FREE DOCTOR consult all 50 states because FREE is affordable care! FREE CARE FOR ALL is early treatment and monitoring to bring HOPE to the masses! American College of Healthcare Sciences is a world-renowned accredited online college. Our mission is driven by the principles and vision of our president, Dorene Petersen, who founded the college in 1978 as a pioneer in holistic health education. We award degrees, diplomas, and certificates in the following: The Legacy of Dr. Unthank. DeNorval Unthank, MD, was an African American doctor who lived life boldly facing adversity and improving the lives of Oregonians. Dr. Unthank graduated from high school at the age of 16, attended the University of Michigan for his undergraduate studies, and went on to Howard University where he earned his medical degree in 1926. Doctors must have the independence to care for their patients without interference from government, media and the medical establishment. America’s Frontline Doctors (AFLDS) stands up for every American looking for the best quality healthcare by empowering doctors working on the front lines of our nation’s most pressing healthcare challenges . AAPS News is the monthly newsletter of the Association of American Physicians and Surgeons. Online archives are available back through 1989. Op-eds Articles written by AAPS physicians on the issues facing medicine. Patients Information for patients wanting to minimize the role that government and insurance companies play in their medical decisions. First press conference of American Front line doctors. American life has fallen casualty to a massive disinformation campaign. We can speculate on how this has happened, and why it has continued, but the purpose of the inaugural White Coat Summit is to empower Americans to stop living in fear. If Americans continue to let so-called experts and ... The Association of American Physicians (AAP) is an honorary medical society founded in 1885 by the Canadian physician Sir William Osler and six other distinguished physicians of his era for “the advancement of scientific and practical medicine.” Election to the AAP is an honor extended to physicians with outstanding credentials in basic or translational biomedical research and is limited ... Online doctor visits, 24/7. See a doctor or therapist from home, using your phone, tablet or computer. If you’re having a medical emergency, call 911. ... American Academy of Family Physicians “The AAFP supports expanded use of telehealth and telemedicine as an appropriate and efficient means of improving health.” ... The American Medical Association, founded in 1847 and incorporated in 1897, is the largest association of physicians—both MDs and DOs—and medical students in the United States. The AMA's mission is \"to promote the art and science of medicine and the betterment of public health.\" Accessibility statement. The City of Portland ensures meaningful access to City programs, services, and activities to comply with Civil Rights Title VI and ADA Title II laws and reasonably provides: translation, interpretation, modifications, accommodations, alternative formats, auxiliary aids and services. Business listings, community calendar, and other resources for and by Black people in the greater Portland metro area. ITM is a non-profit 501 (c) (3) organization established in 1979 and incorporated in 1983, dedicated to furthering the knowledge and pursuit of traditional medicine systems and their integration with modern medicine. ITM has distributed hundreds of articles to thousands of practitioners worldwide. The articles range from up-to-date herb safety ... Dr. Simone Gold is a Los Angeles-based doctor who leads a group called \"America's Frontline Doctors.\" A video of the group's press conference went viral and was removed from social media.",
            "count": 1
           },
           {
            "name": "3 others",
            "count": 3
           }
          ]
         }
        },
        {
         "name": "_deepnote_index_column",
         "dtype": "int64"
        }
       ],
       "rows_top": [
        {
         "employers": "ploughshares blog",
         "description": "Deeply depressed and living in a Europe ravaged by war, famine, and cholera, Mary Wollstonecraft Sh…",
         "_deepnote_index_column": 0
        },
        {
         "employers": "american doctors online",
         "description": "Stand up for your rights, enjoy your life, be free, get back to work, and live the American Dream w…",
         "_deepnote_index_column": 1
        },
        {
         "employers": "efibanca ente finanziario interbancario spa",
         "description": "Ente Finanziario Interbancario < Bologna Banks. Domestic Branches : Home Europe Italy Campania Napo…",
         "_deepnote_index_column": 2
        },
        {
         "employers": "nesrea",
         "description": "NESREA Team embarked on awareness/sensitization campaign in Mpape and Gishiri communities in the FC…",
         "_deepnote_index_column": 3
        },
        {
         "employers": "stark & roth, inc.",
         "description": "Stark & Roth LLC is located in Milwaukee, WI, United States and is part of the Securities and Commo…",
         "_deepnote_index_column": 4
        }
       ],
       "rows_bottom": null
      },
      "text/plain": "                                     employers  \\\n0                            ploughshares blog   \n1                      american doctors online   \n2  efibanca ente finanziario interbancario spa   \n3                                       nesrea   \n4                           stark & roth, inc.   \n\n                                         description  \n0  Deeply depressed and living in a Europe ravage...  \n1  Stand up for your rights, enjoy your life, be ...  \n2  Ente Finanziario Interbancario < Bologna Banks...  \n3  NESREA Team embarked on awareness/sensitizatio...  \n4  Stark & Roth LLC is located in Milwaukee, WI, ...  ",
      "text/html": "<div>\n<style scoped>\n    .dataframe tbody tr th:only-of-type {\n        vertical-align: middle;\n    }\n\n    .dataframe tbody tr th {\n        vertical-align: top;\n    }\n\n    .dataframe thead th {\n        text-align: right;\n    }\n</style>\n<table border=\"1\" class=\"dataframe\">\n  <thead>\n    <tr style=\"text-align: right;\">\n      <th></th>\n      <th>employers</th>\n      <th>description</th>\n    </tr>\n  </thead>\n  <tbody>\n    <tr>\n      <th>0</th>\n      <td>ploughshares blog</td>\n      <td>Deeply depressed and living in a Europe ravage...</td>\n    </tr>\n    <tr>\n      <th>1</th>\n      <td>american doctors online</td>\n      <td>Stand up for your rights, enjoy your life, be ...</td>\n    </tr>\n    <tr>\n      <th>2</th>\n      <td>efibanca ente finanziario interbancario spa</td>\n      <td>Ente Finanziario Interbancario &lt; Bologna Banks...</td>\n    </tr>\n    <tr>\n      <th>3</th>\n      <td>nesrea</td>\n      <td>NESREA Team embarked on awareness/sensitizatio...</td>\n    </tr>\n    <tr>\n      <th>4</th>\n      <td>stark &amp; roth, inc.</td>\n      <td>Stark &amp; Roth LLC is located in Milwaukee, WI, ...</td>\n    </tr>\n  </tbody>\n</table>\n</div>"
     },
     "metadata": {}
    }
   ]
  },
  {
   "cell_type": "markdown",
   "source": "There are two features in this dataset. Employers and descriptions. Description has more data, so let's clean description first.  ",
   "metadata": {
    "tags": [],
    "cell_id": "00003-f07161ab-f118-41ff-b4e0-b5349fbe1f98",
    "deepnote_cell_type": "markdown"
   }
  },
  {
   "cell_type": "code",
   "metadata": {
    "tags": [],
    "cell_id": "00004-046463c9-9031-43c7-897f-2c9e799e88c2",
    "deepnote_to_be_reexecuted": false,
    "source_hash": "1ff8d990",
    "execution_start": 1635901782802,
    "execution_millis": 8,
    "deepnote_cell_type": "code"
   },
   "source": "sentences= dataset['description'].values",
   "execution_count": null,
   "outputs": []
  },
  {
   "cell_type": "code",
   "metadata": {
    "tags": [],
    "cell_id": "00005-a6396ead-325d-4658-bb29-1a4634b8da3a",
    "deepnote_to_be_reexecuted": false,
    "source_hash": "d444f822",
    "execution_start": 1635901782814,
    "execution_millis": 0,
    "deepnote_cell_type": "code"
   },
   "source": "sample=random.choice(sentences)\nprint(sample)",
   "execution_count": null,
   "outputs": [
    {
     "name": "stdout",
     "text": "Real Time Resolutions is a full-service loan servicing and recovery company specializing in mortgage, auto, student, credit card, and other consumer loans. It is our vision to help our customers with their financial obligations in all stages of their loan cycle. Whether your loan is up to date, or falling behind, we offer convenient payment solutions. Real Time Resolutions (RTR) is a well-established debt collection agency. They are a full-service loan servicing and recovery company specializing in auto, student, credit card, mortgage, and other consumer loans. RTR acts as a collection agency for original creditors, third-party creditors, and debt that they purchase. They are a woman-owned ... Real Time Resolutions, Inc. P.O. Box 36655 Dallas, TX, 75235-1655. Payments – Mortgages * Real Time Resolutions, Inc. P.O. Box 840923 Dallas, TX 75284-0923. Payments – Auto Loans, Credit Cards, Student Loans, and Other * Real Time Resolutions, Inc. P.O. Box 567749 Dallas, TX 75356-7749 *Include your account number on all checks to ensure ... Real Time Resolutions is listed as a collection agency, mortgage broker, and financial services company. Buzzfile estimates Real Time Resolutions’ annual revenue at $30.2 million and the size of its headquarters staff at 104 employees, with a total of 350 employees across all locations. eﬁective rate. The low resolution approach therefore opens up new vistas in vision science and can also be extended to other real-time applications. 1.1 Motivation The motivation of this thesis is to build a detector system which not only uses low resolution image data to do the processing but is also reliable enough to handle variations in light Rapid Response was the precursor to Global Imagery Browse Services (GIBS), Worldview and Worldview Snapshots.Rapid Response has been providing subset and global swath imagery from the Moderate Resolution Imaging Spectroradiometer (MODIS) since 2001 but is now being phased out. Resolution. Symantec does not recommend running more than one file-scanning application on a computer at any time. For other realtime applications such as indexing and backup, please exclude the following folders from monitoring by these third-party applications. C:\\ProgramData\\Symantec\\Symantec Endpoint Protection\\<version>\\SRTSP\\Quarantine ... This is due to the fundamental differences in image formation between rendered and photographic images. In real-time rendering, each sample is a point in both space and time. That is why the rendered content is typically highly aliased, producing jagged lines and other sampling artifacts seen in the low-resolution input examples in this post. Operational forward-processing assimilation tailored for mission customers and other realtime users, nominally 12 hours behind real-time using a DAS version that is updated more frequently to include the latest advancements. The current horizontal resolution is 5/16° (lon) x 1/4° (lat). mode It is also possible to see a latency plot with the combined results of all the real-time devices that are currently being tested. It can also be interesting to compare with results from other systems that were running loads, using various Cyclictest parameters, and running different real-time and non real-time kernels. Does WebRTC, (or other realtime video system like Hangout, Skype) change only the bitrate and not the resolution during live ingest? If it doesn't change the resolution, why is that? According to the bitrate, quality, resolution curve shown below, using only single fixed resolution to cover bitrate changes seems not efficient. countered by the move towards higher resolution displays and hig-her refresh rates. It therefore seems likely that a realistic sampling budget for games and other realtime applications will remain on the order of one (short) path per pixel for the foreseeable future. We present a new general reconstruction technique that signi˙cantly Offline to Realtime: Gesture Graphics. In a previous post I introduced my reasoning about user input. The key takeaway was that it’s not a good idea to deal with raw pointer input, and providing infrastructure to decode common user action is simple and worthwhile. Today I am writing about the second part of Gesture, the graphics component ... Buy PACOXI HD Capture Card, 4K HDMI Pass-through USB2.0 1080P Game Audio and Video Record Capture Board, Use PS4 Switch Xbox OBS YouTube and Other Real-time Streaming Media to Record Live Broadcast. HD103: Internal TV Tuner & Capture Cards - Amazon.com FREE DELIVERY possible on eligible purchases We will help you to get the best of both worlds, best performance on high resolution models and high quality PBR texturing for best visual physical effects. Use realtimemodels to create a realistic interactive 3d environment for your products to use for the web or any other realtime 3D applications, like digital twin software or like our own 3d ... Realtime multi-plot graphics system The increased complexity of test operations and customer requirements at Langley Research Center's National Transonic Facility (NTF) surpassed the capabilities of the initial realtime graphics system. The analysis of existing hardware and software and the enhancements made to develop a new realtime graphics system are described. It can be used both in high poly scenes and low poly scenes. This model is has great details and optimized to use in games or other realtime projects. With the high resolution PBR textures you can get the great look on any game engine or render engine.-The model was applied smooth in Maya and UV mapping was done. Ready to be used in any game engine or other realtime rendering programs. Screenshots and video were taken from realtime rendering in Unity. The textures set: Base Color, Normal, Metallic, Ambient Occlusion. Textures resolution: 2048 * 2048 px. Textures format: PNG. Limelight Realtime Streaming is the first globally scalable solution that allows video to be streamed from anywhere, to everywhere, in less than a second. ... one of the primary complaints with watching live sports and other realtime events is the delay between the broadcast feed and the online stream. ... Define a custom bitrate and resolution ...\n",
     "output_type": "stream"
    }
   ]
  },
  {
   "cell_type": "markdown",
   "source": "Task 1\n\nObservations from the dataset:\n\nSentences can contain multiple languages\n\nSentences regularly include emails, phone numbers, punctuation and serial numbers / hex codes",
   "metadata": {
    "tags": [],
    "cell_id": "00006-0998bd43-2bde-424e-b538-7a169b9c03f2",
    "deepnote_cell_type": "markdown"
   }
  },
  {
   "cell_type": "markdown",
   "source": "Task 2\n\nCreating regex for the phone number \n\\s*(?:\\+?(\\d{1,3}))?[-. (]*(\\d{3})[-. )]*(\\d{3})[-. ]*(\\d{4})(?: *x(\\d+))?\\s*\n\n* \\s whitespace\n* '*' match 0 or more token\n* ?: non-capturing group\n* d{1,3} matches any digit between 1-3 of the token\n*  [-. (] match any set\n* (\\d{3}) capturing group, match 3 of the token\n* (?: *x(\\d+)) non-capturing\n* x  case sensitive\n\n\n\n",
   "metadata": {
    "tags": [],
    "cell_id": "00008-13459919-2eeb-4c20-bed3-415ef0e5e833",
    "deepnote_cell_type": "markdown"
   }
  },
  {
   "cell_type": "code",
   "metadata": {
    "tags": [],
    "cell_id": "00009-83d72b29-6ea3-4560-a170-b229a1f0be1f",
    "deepnote_to_be_reexecuted": false,
    "source_hash": "a0842833",
    "execution_start": 1635901782834,
    "execution_millis": 6,
    "deepnote_cell_type": "code"
   },
   "source": "def remove_phone(text):\n    phone_regex=re.compile('\\s*(?:\\+?(\\d{1,3}))?[-. (]*(\\d{3})[-. )]*(\\d{3})[-. ]*(\\d{4})(?: *x(\\d+))?\\s*')\n    return phone_regex.sub(r'', text)\n\nsample=remove_phone(sample)             #removing phone numbers from the sample data in descrption\n#example= \"(888) 230-5500, 10123456789, 1 012 345 6789, +1 012 345-6789, 123-456-7890\"\n\n#example=remove_phone(example)\n#print(example)\n\nprint(sample)",
   "execution_count": null,
   "outputs": [
    {
     "name": "stdout",
     "text": "Real Time Resolutions is a full-service loan servicing and recovery company specializing in mortgage, auto, student, credit card, and other consumer loans. It is our vision to help our customers with their financial obligations in all stages of their loan cycle. Whether your loan is up to date, or falling behind, we offer convenient payment solutions. Real Time Resolutions (RTR) is a well-established debt collection agency. They are a full-service loan servicing and recovery company specializing in auto, student, credit card, mortgage, and other consumer loans. RTR acts as a collection agency for original creditors, third-party creditors, and debt that they purchase. They are a woman-owned ... Real Time Resolutions, Inc. P.O. Box 36655 Dallas, TX, 75235-1655. Payments – Mortgages * Real Time Resolutions, Inc. P.O. Box 840923 Dallas, TX 75284-0923. Payments – Auto Loans, Credit Cards, Student Loans, and Other * Real Time Resolutions, Inc. P.O. Box 567749 Dallas, TX 75356-7749 *Include your account number on all checks to ensure ... Real Time Resolutions is listed as a collection agency, mortgage broker, and financial services company. Buzzfile estimates Real Time Resolutions’ annual revenue at $30.2 million and the size of its headquarters staff at 104 employees, with a total of 350 employees across all locations. eﬁective rate. The low resolution approach therefore opens up new vistas in vision science and can also be extended to other real-time applications. 1.1 Motivation The motivation of this thesis is to build a detector system which not only uses low resolution image data to do the processing but is also reliable enough to handle variations in light Rapid Response was the precursor to Global Imagery Browse Services (GIBS), Worldview and Worldview Snapshots.Rapid Response has been providing subset and global swath imagery from the Moderate Resolution Imaging Spectroradiometer (MODIS) since 2001 but is now being phased out. Resolution. Symantec does not recommend running more than one file-scanning application on a computer at any time. For other realtime applications such as indexing and backup, please exclude the following folders from monitoring by these third-party applications. C:\\ProgramData\\Symantec\\Symantec Endpoint Protection\\<version>\\SRTSP\\Quarantine ... This is due to the fundamental differences in image formation between rendered and photographic images. In real-time rendering, each sample is a point in both space and time. That is why the rendered content is typically highly aliased, producing jagged lines and other sampling artifacts seen in the low-resolution input examples in this post. Operational forward-processing assimilation tailored for mission customers and other realtime users, nominally 12 hours behind real-time using a DAS version that is updated more frequently to include the latest advancements. The current horizontal resolution is 5/16° (lon) x 1/4° (lat). mode It is also possible to see a latency plot with the combined results of all the real-time devices that are currently being tested. It can also be interesting to compare with results from other systems that were running loads, using various Cyclictest parameters, and running different real-time and non real-time kernels. Does WebRTC, (or other realtime video system like Hangout, Skype) change only the bitrate and not the resolution during live ingest? If it doesn't change the resolution, why is that? According to the bitrate, quality, resolution curve shown below, using only single fixed resolution to cover bitrate changes seems not efficient. countered by the move towards higher resolution displays and hig-her refresh rates. It therefore seems likely that a realistic sampling budget for games and other realtime applications will remain on the order of one (short) path per pixel for the foreseeable future. We present a new general reconstruction technique that signi˙cantly Offline to Realtime: Gesture Graphics. In a previous post I introduced my reasoning about user input. The key takeaway was that it’s not a good idea to deal with raw pointer input, and providing infrastructure to decode common user action is simple and worthwhile. Today I am writing about the second part of Gesture, the graphics component ... Buy PACOXI HD Capture Card, 4K HDMI Pass-through USB2.0 1080P Game Audio and Video Record Capture Board, Use PS4 Switch Xbox OBS YouTube and Other Real-time Streaming Media to Record Live Broadcast. HD103: Internal TV Tuner & Capture Cards - Amazon.com FREE DELIVERY possible on eligible purchases We will help you to get the best of both worlds, best performance on high resolution models and high quality PBR texturing for best visual physical effects. Use realtimemodels to create a realistic interactive 3d environment for your products to use for the web or any other realtime 3D applications, like digital twin software or like our own 3d ... Realtime multi-plot graphics system The increased complexity of test operations and customer requirements at Langley Research Center's National Transonic Facility (NTF) surpassed the capabilities of the initial realtime graphics system. The analysis of existing hardware and software and the enhancements made to develop a new realtime graphics system are described. It can be used both in high poly scenes and low poly scenes. This model is has great details and optimized to use in games or other realtime projects. With the high resolution PBR textures you can get the great look on any game engine or render engine.-The model was applied smooth in Maya and UV mapping was done. Ready to be used in any game engine or other realtime rendering programs. Screenshots and video were taken from realtime rendering in Unity. The textures set: Base Color, Normal, Metallic, Ambient Occlusion. Textures resolution: 2048 * 2048 px. Textures format: PNG. Limelight Realtime Streaming is the first globally scalable solution that allows video to be streamed from anywhere, to everywhere, in less than a second. ... one of the primary complaints with watching live sports and other realtime events is the delay between the broadcast feed and the online stream. ... Define a custom bitrate and resolution ...\n",
     "output_type": "stream"
    }
   ]
  },
  {
   "cell_type": "markdown",
   "source": "Task 3\n\nApply all the cleaning techniques on the dataset by using function. Your function will take a string as an input and will return the clean version of it. Create one function per regex + string manipulation you do. Use the apply function of pandas to clean your dataset.",
   "metadata": {
    "tags": [],
    "cell_id": "00010-e702eaf0-783e-4fd9-83d5-06dd45b9efd9",
    "deepnote_cell_type": "markdown"
   }
  },
  {
   "cell_type": "code",
   "metadata": {
    "tags": [],
    "cell_id": "00010-ba0e078a-3644-43bc-9d07-38885a2de6c5",
    "deepnote_to_be_reexecuted": false,
    "source_hash": "469777d4",
    "execution_start": 1635901782845,
    "execution_millis": 12,
    "deepnote_cell_type": "code"
   },
   "source": "# Remove punctuation\nSTRING_PUNCTUATION = string.punctuation\ndef remove_punctuation(text):\n    return text.translate(str.maketrans(\"\", \"\", STRING_PUNCTUATION))\n\n# Remove numbers\ndef remove_numbers(text):\n    return ''.join([i for i in text if not i.isdigit()])\n\n# Remove URLS\ndef remove_urls(text):\n    url_pattern = re.compile(r'https?://\\S+|www\\.\\S+')\n    return url_pattern.sub(r'', text)",
   "execution_count": null,
   "outputs": []
  },
  {
   "cell_type": "code",
   "metadata": {
    "tags": [],
    "cell_id": "00011-3abdbbee-30a9-4ae2-99ec-6bcafa1607dc",
    "deepnote_to_be_reexecuted": false,
    "source_hash": "7e4ff24a",
    "execution_start": 1635901782857,
    "execution_millis": 8,
    "deepnote_cell_type": "code"
   },
   "source": "# Apply cleaning functions\nsample=remove_punctuation(sample)\nsample=remove_numbers(sample)\nsample=remove_urls(sample)\nsample=sample.lower()\nprint(sample)",
   "execution_count": null,
   "outputs": [
    {
     "name": "stdout",
     "text": "real time resolutions is a fullservice loan servicing and recovery company specializing in mortgage auto student credit card and other consumer loans it is our vision to help our customers with their financial obligations in all stages of their loan cycle whether your loan is up to date or falling behind we offer convenient payment solutions real time resolutions rtr is a wellestablished debt collection agency they are a fullservice loan servicing and recovery company specializing in auto student credit card mortgage and other consumer loans rtr acts as a collection agency for original creditors thirdparty creditors and debt that they purchase they are a womanowned  real time resolutions inc po box  dallas tx  payments – mortgages  real time resolutions inc po box  dallas tx  payments – auto loans credit cards student loans and other  real time resolutions inc po box  dallas tx  include your account number on all checks to ensure  real time resolutions is listed as a collection agency mortgage broker and financial services company buzzfile estimates real time resolutions’ annual revenue at  million and the size of its headquarters staff at  employees with a total of  employees across all locations eﬁective rate the low resolution approach therefore opens up new vistas in vision science and can also be extended to other realtime applications  motivation the motivation of this thesis is to build a detector system which not only uses low resolution image data to do the processing but is also reliable enough to handle variations in light rapid response was the precursor to global imagery browse services gibs worldview and worldview snapshotsrapid response has been providing subset and global swath imagery from the moderate resolution imaging spectroradiometer modis since  but is now being phased out resolution symantec does not recommend running more than one filescanning application on a computer at any time for other realtime applications such as indexing and backup please exclude the following folders from monitoring by these thirdparty applications cprogramdatasymantecsymantec endpoint protectionversionsrtspquarantine  this is due to the fundamental differences in image formation between rendered and photographic images in realtime rendering each sample is a point in both space and time that is why the rendered content is typically highly aliased producing jagged lines and other sampling artifacts seen in the lowresolution input examples in this post operational forwardprocessing assimilation tailored for mission customers and other realtime users nominally  hours behind realtime using a das version that is updated more frequently to include the latest advancements the current horizontal resolution is ° lon x ° lat mode it is also possible to see a latency plot with the combined results of all the realtime devices that are currently being tested it can also be interesting to compare with results from other systems that were running loads using various cyclictest parameters and running different realtime and non realtime kernels does webrtc or other realtime video system like hangout skype change only the bitrate and not the resolution during live ingest if it doesnt change the resolution why is that according to the bitrate quality resolution curve shown below using only single fixed resolution to cover bitrate changes seems not efficient countered by the move towards higher resolution displays and higher refresh rates it therefore seems likely that a realistic sampling budget for games and other realtime applications will remain on the order of one short path per pixel for the foreseeable future we present a new general reconstruction technique that signi˙cantly offline to realtime gesture graphics in a previous post i introduced my reasoning about user input the key takeaway was that it’s not a good idea to deal with raw pointer input and providing infrastructure to decode common user action is simple and worthwhile today i am writing about the second part of gesture the graphics component  buy pacoxi hd capture card k hdmi passthrough usb p game audio and video record capture board use ps switch xbox obs youtube and other realtime streaming media to record live broadcast hd internal tv tuner  capture cards  amazoncom free delivery possible on eligible purchases we will help you to get the best of both worlds best performance on high resolution models and high quality pbr texturing for best visual physical effects use realtimemodels to create a realistic interactive d environment for your products to use for the web or any other realtime d applications like digital twin software or like our own d  realtime multiplot graphics system the increased complexity of test operations and customer requirements at langley research centers national transonic facility ntf surpassed the capabilities of the initial realtime graphics system the analysis of existing hardware and software and the enhancements made to develop a new realtime graphics system are described it can be used both in high poly scenes and low poly scenes this model is has great details and optimized to use in games or other realtime projects with the high resolution pbr textures you can get the great look on any game engine or render enginethe model was applied smooth in maya and uv mapping was done ready to be used in any game engine or other realtime rendering programs screenshots and video were taken from realtime rendering in unity the textures set base color normal metallic ambient occlusion textures resolution    px textures format png limelight realtime streaming is the first globally scalable solution that allows video to be streamed from anywhere to everywhere in less than a second  one of the primary complaints with watching live sports and other realtime events is the delay between the broadcast feed and the online stream  define a custom bitrate and resolution \n",
     "output_type": "stream"
    }
   ]
  },
  {
   "cell_type": "markdown",
   "source": "Task 4\n\nLooking at nltk library:\nCreating a function to apply stem features PorterStemmer and SnowballStemmers.\n* PorterStemmer: Reducing a word to its word stem. For example: likes, liked, liking reduced to like\n* SnowballStemmer: Similiar to PorterStemmer but more aggressive",
   "metadata": {
    "tags": [],
    "cell_id": "00011-f7e5cd27-1b6a-4ac0-8d5c-75a14ef506aa",
    "deepnote_cell_type": "markdown"
   }
  },
  {
   "cell_type": "code",
   "metadata": {
    "tags": [],
    "cell_id": "00013-87bc5861-249d-422e-abf4-c17fd0700864",
    "deepnote_to_be_reexecuted": false,
    "source_hash": "1bcbb9dd",
    "execution_start": 1635901782874,
    "execution_millis": 58,
    "deepnote_cell_type": "code"
   },
   "source": "from nltk.stem.snowball import SnowballStemmer\nporterStemmer=nltk.stem.PorterStemmer()\nenglishStemmer=SnowballStemmer(\"english\")\n#example='sportingly, having and, liked'\n#print(sample)\ndef stemming(words):\n    #words=\n    \n    split_lines = words.split(\" \")\n\t\t#print(split_lines[0])\n    x=[englishStemmer.stem(s) for s in split_lines]        #snowball\n    x=[porterStemmer.stem(s) for s in split_lines]          #porter\n    return x\n\nsample=stemming(sample)\n#example=stemming(example)\nprint(\" \".join(sample))\n#print(example)\n",
   "execution_count": null,
   "outputs": [
    {
     "name": "stdout",
     "text": "real time resolut is a fullservic loan servic and recoveri compani special in mortgag auto student credit card and other consum loan it is our vision to help our custom with their financi oblig in all stage of their loan cycl whether your loan is up to date or fall behind we offer conveni payment solut real time resolut rtr is a wellestablish debt collect agenc they are a fullservic loan servic and recoveri compani special in auto student credit card mortgag and other consum loan rtr act as a collect agenc for origin creditor thirdparti creditor and debt that they purchas they are a womanown  real time resolut inc po box  dalla tx  payment – mortgag  real time resolut inc po box  dalla tx  payment – auto loan credit card student loan and other  real time resolut inc po box  dalla tx  includ your account number on all check to ensur  real time resolut is list as a collect agenc mortgag broker and financi servic compani buzzfil estim real time resolutions’ annual revenu at  million and the size of it headquart staff at  employe with a total of  employe across all locat eﬁect rate the low resolut approach therefor open up new vista in vision scienc and can also be extend to other realtim applic  motiv the motiv of thi thesi is to build a detector system which not onli use low resolut imag data to do the process but is also reliabl enough to handl variat in light rapid respons wa the precursor to global imageri brows servic gib worldview and worldview snapshotsrapid respons ha been provid subset and global swath imageri from the moder resolut imag spectroradiomet modi sinc  but is now be phase out resolut symantec doe not recommend run more than one filescan applic on a comput at ani time for other realtim applic such as index and backup pleas exclud the follow folder from monitor by these thirdparti applic cprogramdatasymantecsymantec endpoint protectionversionsrtspquarantin  thi is due to the fundament differ in imag format between render and photograph imag in realtim render each sampl is a point in both space and time that is whi the render content is typic highli alias produc jag line and other sampl artifact seen in the lowresolut input exampl in thi post oper forwardprocess assimil tailor for mission custom and other realtim user nomin  hour behind realtim use a da version that is updat more frequent to includ the latest advanc the current horizont resolut is ° lon x ° lat mode it is also possibl to see a latenc plot with the combin result of all the realtim devic that are current be test it can also be interest to compar with result from other system that were run load use variou cyclictest paramet and run differ realtim and non realtim kernel doe webrtc or other realtim video system like hangout skype chang onli the bitrat and not the resolut dure live ingest if it doesnt chang the resolut whi is that accord to the bitrat qualiti resolut curv shown below use onli singl fix resolut to cover bitrat chang seem not effici counter by the move toward higher resolut display and higher refresh rate it therefor seem like that a realist sampl budget for game and other realtim applic will remain on the order of one short path per pixel for the forese futur we present a new gener reconstruct techniqu that signi˙cantli offlin to realtim gestur graphic in a previou post i introduc my reason about user input the key takeaway wa that it’ not a good idea to deal with raw pointer input and provid infrastructur to decod common user action is simpl and worthwhil today i am write about the second part of gestur the graphic compon  buy pacoxi hd captur card k hdmi passthrough usb p game audio and video record captur board use ps switch xbox ob youtub and other realtim stream media to record live broadcast hd intern tv tuner  captur card  amazoncom free deliveri possibl on elig purchas we will help you to get the best of both world best perform on high resolut model and high qualiti pbr textur for best visual physic effect use realtimemodel to creat a realist interact d environ for your product to use for the web or ani other realtim d applic like digit twin softwar or like our own d  realtim multiplot graphic system the increas complex of test oper and custom requir at langley research center nation transon facil ntf surpass the capabl of the initi realtim graphic system the analysi of exist hardwar and softwar and the enhanc made to develop a new realtim graphic system are describ it can be use both in high poli scene and low poli scene thi model is ha great detail and optim to use in game or other realtim project with the high resolut pbr textur you can get the great look on ani game engin or render engineth model wa appli smooth in maya and uv map wa done readi to be use in ani game engin or other realtim render program screenshot and video were taken from realtim render in uniti the textur set base color normal metal ambient occlus textur resolut    px textur format png limelight realtim stream is the first global scalabl solut that allow video to be stream from anywher to everywher in less than a second  one of the primari complaint with watch live sport and other realtim event is the delay between the broadcast feed and the onlin stream  defin a custom bitrat and resolut \n",
     "output_type": "stream"
    }
   ]
  },
  {
   "cell_type": "markdown",
   "source": "Task 5\n\nCreate a function to apply at least 2 lemmatization techniques to the dataset. Which technique do you prefer? What observation can you make on lemmatization compare to stemming?",
   "metadata": {
    "tags": [],
    "cell_id": "00014-cbac3bfe-9b52-42bd-9890-d8bb95ea465c",
    "deepnote_cell_type": "markdown"
   }
  },
  {
   "cell_type": "code",
   "metadata": {
    "tags": [],
    "cell_id": "00015-dd8042e6-1ebf-4031-832f-e4b1bef78297",
    "deepnote_to_be_reexecuted": false,
    "source_hash": "ae3bea1b",
    "execution_start": 1635901782919,
    "execution_millis": 12380,
    "deepnote_cell_type": "code"
   },
   "source": "nltk.download('wordnet')\nlemmatizer = nltk.stem.WordNetLemmatizer()\n!python -m spacy download en_core_web_sm >> /dev/null",
   "execution_count": null,
   "outputs": [
    {
     "name": "stderr",
     "text": "[nltk_data] Downloading package wordnet to /root/nltk_data...\n[nltk_data]   Unzipping corpora/wordnet.zip.\n2021-11-03 01:09:45.125664: W tensorflow/stream_executor/platform/default/dso_loader.cc:60] Could not load dynamic library 'libcudart.so.11.0'; dlerror: libcudart.so.11.0: cannot open shared object file: No such file or directory\n2021-11-03 01:09:45.125727: I tensorflow/stream_executor/cuda/cudart_stub.cc:29] Ignore above cudart dlerror if you do not have a GPU set up on your machine.\n\u001b[33mWARNING: You are using pip version 21.2.4; however, version 21.3.1 is available.\nYou should consider upgrading via the '/root/venv/bin/python -m pip install --upgrade pip' command.\u001b[0m\n",
     "output_type": "stream"
    }
   ]
  },
  {
   "cell_type": "code",
   "metadata": {
    "tags": [],
    "cell_id": "00016-bd98b09c-5b77-45c1-ab66-3cd6260e88f4",
    "deepnote_to_be_reexecuted": false,
    "source_hash": "a5c14b4f",
    "execution_start": 1635901795310,
    "execution_millis": 9,
    "deepnote_cell_type": "code"
   },
   "source": "# Creating new cleaned sample sentence\nsample=random.choice(sentences)\n\nsample=remove_phone(sample)\nsample=remove_punctuation(sample)\nsample=remove_numbers(sample)\nsample=remove_urls(sample)\nsample=sample.lower()\nsample2 = sample\nprint(sample)",
   "execution_count": null,
   "outputs": [
    {
     "name": "stdout",
     "text": "tarte cosmetics makeup skincare  beauty products made with highperformance naturals crueltyfree best selling concealer foundation eyeshadow palettes mascara tarte cosmetics tarte inc is located in new york ny united states and is part of the health and personal care stores industry tarte inc has  total employees across all of its locations and generates  million in sales usd sales figure is modelled there are  companies in the tarte inc corporate family tarte inc tarte inc retails cosmetics and personal care products the company offers oil sunscreen lotions shimmering powder clay mascara clay waterproof liners eye pencil lipstick  contact tarte tarte cosmetics id like to receive recurring promotional and personalized advertising text messages sms and mms eg cart reminders from tarte cosmetics and i consent to these texts being sent via autodialer to the mobile number i provided above makeup  skincare products made with vegan crueltyfree  ecofriendly formulas for easy everyday glam tarte cosmetics limitededition rainforest of the sea™ eyeshadow palette vol ii   product review   out of  stars  buy  get  free code free quickview add to bag hygge  kisses tarteist™ remix lip gloss trio hygge  kisses tarteist™ remix lip gloss trio   id like to receive recurring promotional and personalized advertising text messages sms and mms eg cart reminders from tarte cosmetics and i consent to these texts being sent via autodialer to the mobile number i provided above tartberry the portland oregon hotspot for cool easy frozen desserts crafted to your favorite tastes by you choose from over  different flavors of frozen dessert choices from yogurt to ice cream gelato to custard boba tea—we have something for everyone including lactosefree glutenfree and vegan options the  best places for tarts in portland  st honoré boulangerie cheree ramon try the gâteau au chocolat and the tarte abricot amande deirdre ruiz seasons fruit tarte was amazing so fresh sue viens brie bartlett panini prosciutto brie cheese with caramelized pears and onions enough said specialties sephora wants to teach and inspire clients to play in a world of beauty while creating the worlds most loved beauty community sephora invites clients to play with over  products from over  brands including exclusives like fenty beauty by rihanna rare beauty by selena gomez sephora collection and more clients can experience sephora anywhere by visiting the sephora  tarte inc  w th st rm  new york ny  get directions wwwtartecosmeticscom   contact info importer tarte inc  broadway ste  new york ny  us more data available to paid subscribers sample shipment from tarte inc tarte inc  amazonian clay hour full coverage foundation broad spectrum spf  sunscreen b light beige tarte inc  amazonian clay hour full coverage foundation broad spectrum spf  sunscreen g light golden tarte inc  tarte inc is a business entity registered with new york state department of state nysdos the dos entity number is  the office address is located at  broadway ste  new york new york  the business is initally filed on november   get reviews hours directions coupons and more for tarte inc at  broadway fl  new york ny  search for other cosmetics  perfumes in new york on the real yellow pages® browse welcome to tate  floortoceiling solutions for over  years tate has been an industry leading global provider of innovative next generation solutions for raised access floor structural ceilings and data center containment solutions our highend architectural finishes allow commercial buildings to create a signature style while  tarte inc news  case alert on tarte inc consumer goods » personal products » tarte inc new articles alert menu options for tarte inc tarte inc is a business entity registered with colorado department of state cdos the business entity number is  the business office address is located at  broadway suite  new york ny  tarte inc at  west th street new york ny  usa find their customers contact information and details on  shipments\n",
     "output_type": "stream"
    }
   ]
  },
  {
   "cell_type": "code",
   "metadata": {
    "tags": [],
    "cell_id": "00017-46ed2dae-2d8a-43d3-8899-52b6049e1ae3",
    "deepnote_to_be_reexecuted": false,
    "source_hash": "98b698de",
    "execution_start": 1635901795329,
    "execution_millis": 3700,
    "deepnote_cell_type": "code"
   },
   "source": "# Technique 1\nprint(\" \".join([lemmatizer.lemmatize(token, 'v') for token in sample.split(' ')]))\n\n# Technique 2\nnlp = spacy.load('en_core_web_sm', disable=['parser', 'ner'])\ndoc = nlp(sample2)\nprint(\" \".join([token.lemma_ for token in doc]))",
   "execution_count": null,
   "outputs": [
    {
     "name": "stdout",
     "text": "tarte cosmetics makeup skincare  beauty products make with highperformance naturals crueltyfree best sell concealer foundation eyeshadow palettes mascara tarte cosmetics tarte inc be locate in new york ny unite state and be part of the health and personal care store industry tarte inc have  total employees across all of its locations and generate  million in sales usd sales figure be model there be  company in the tarte inc corporate family tarte inc tarte inc retail cosmetics and personal care products the company offer oil sunscreen lotions shimmer powder clay mascara clay waterproof liners eye pencil lipstick  contact tarte tarte cosmetics id like to receive recur promotional and personalize advertise text message sms and mms eg cart reminders from tarte cosmetics and i consent to these texts be send via autodialer to the mobile number i provide above makeup  skincare products make with vegan crueltyfree  ecofriendly formulas for easy everyday glam tarte cosmetics limitededition rainforest of the sea™ eyeshadow palette vol ii   product review   out of  star  buy  get  free code free quickview add to bag hygge  kiss tarteist™ remix lip gloss trio hygge  kiss tarteist™ remix lip gloss trio   id like to receive recur promotional and personalize advertise text message sms and mms eg cart reminders from tarte cosmetics and i consent to these texts be send via autodialer to the mobile number i provide above tartberry the portland oregon hotspot for cool easy freeze desserts craft to your favorite taste by you choose from over  different flavor of freeze dessert choices from yogurt to ice cream gelato to custard boba tea—we have something for everyone include lactosefree glutenfree and vegan options the  best place for tarts in portland  st honoré boulangerie cheree ramon try the gâteau au chocolat and the tarte abricot amande deirdre ruiz season fruit tarte be amaze so fresh sue viens brie bartlett panini prosciutto brie cheese with caramelize pears and onions enough say specialties sephora want to teach and inspire clients to play in a world of beauty while create the worlds most love beauty community sephora invite clients to play with over  products from over  brand include exclusives like fenty beauty by rihanna rare beauty by selena gomez sephora collection and more clients can experience sephora anywhere by visit the sephora  tarte inc  w th st rm  new york ny  get directions wwwtartecosmeticscom   contact info importer tarte inc  broadway ste  new york ny  us more data available to pay subscribers sample shipment from tarte inc tarte inc  amazonian clay hour full coverage foundation broad spectrum spf  sunscreen b light beige tarte inc  amazonian clay hour full coverage foundation broad spectrum spf  sunscreen g light golden tarte inc  tarte inc be a business entity register with new york state department of state nysdos the do entity number be  the office address be locate at  broadway ste  new york new york  the business be initally file on november   get review hours directions coupons and more for tarte inc at  broadway fl  new york ny  search for other cosmetics  perfume in new york on the real yellow pages® browse welcome to tate  floortoceiling solutions for over  years tate have be an industry lead global provider of innovative next generation solutions for raise access floor structural ceilings and data center containment solutions our highend architectural finish allow commercial build to create a signature style while  tarte inc news  case alert on tarte inc consumer goods » personal products » tarte inc new article alert menu options for tarte inc tarte inc be a business entity register with colorado department of state cdos the business entity number be  the business office address be locate at  broadway suite  new york ny  tarte inc at  west th street new york ny  usa find their customers contact information and detail on  shipments\ntarte cosmetic makeup skincare   beauty product make with highperformance natural crueltyfree well sell concealer foundation eyeshadow palette mascara tarte cosmetics tarte inc be locate in new york ny united states and be part of the health and personal care store industry tarte inc have   total employee across all of its location and generate   million in sale usd sale figure be model there be   company in the tarte inc corporate family tarte inc tarte inc retail cosmetic and personal care product the company offer oil sunscreen lotion shimmer powder clay mascara clay waterproof liner eye pencil lipstick   contact tarte tarte cosmetic i d like to receive recur promotional and personalized advertising text message sm and mms eg cart reminder from tarte cosmetic and I consent to these text be send via autodialer to the mobile number I provide above makeup   skincare product make with vegan crueltyfree   ecofriendly formula for easy everyday glam tarte cosmetic limitededition rainforest of the sea ™ eyeshadow palette vol ii    product review    out of   star   buy   get   free code free quickview add to bag hygge   kiss tarteist ™ remix lip gloss trio hygge   kiss tarteist ™ remix lip gloss trio    i d like to receive recur promotional and personalized advertising text message sm and mms eg cart reminder from tarte cosmetic and I consent to these text be send via autodialer to the mobile number I provide above tartberry the portland oregon hotspot for cool easy frozen dessert craft to your favorite taste by you choose from over   different flavor of frozen dessert choice from yogurt to ice cream gelato to custard boba tea — we have something for everyone include lactosefree glutenfree and vegan option the   good place for tart in portland   st honoré boulangerie cheree ramon try the gâteau au chocolat and the tarte abricot amande deirdre ruiz season fruit tarte be amazing so fresh sue viens brie bartlett panini prosciutto brie cheese with caramelize pear and onion enough say specialty sephora want to teach and inspire client to play in a world of beauty while create the world most love beauty community sephora invite client to play with over   product from over   brand include exclusives like fenty beauty by rihanna rare beauty by selena gomez sephora collection and more client can experience sephora anywhere by visit the sephora   tarte inc   w th st rm   new york ny   get direction wwwtartecosmeticscom    contact info importer tarte inc   broadway ste   new york ny   we more datum available to pay subscriber sample shipment from tarte inc tarte inc   amazonian clay hour full coverage foundation broad spectrum spf   sunscreen b light beige tarte inc   amazonian clay hour full coverage foundation broad spectrum spf   sunscreen g light golden tarte inc   tarte inc be a business entity register with new york state department of state nysdo the do entity number be   the office address be locate at   broadway ste   new york new york   the business be initally file on november    get review hour direction coupon and more for tarte inc at   broadway fl   new york ny   search for other cosmetic   perfume in new york on the real yellow page ® browse welcome to tate   floortoceiling solution for over   year tate have be an industry lead global provider of innovative next generation solution for raise access floor structural ceiling and data center containment solution our highend architectural finish allow commercial building to create a signature style while   tarte inc news   case alert on tarte inc consumer good » personal product » tarte inc new article alert menu option for tarte inc tarte inc be a business entity register with colorado department of state cdo the business entity number be   the business office address be locate at   broadway suite   new york ny   tarte inc at   west th street new york ny   usa find their customer contact information and detail on   shipment\n",
     "output_type": "stream"
    }
   ]
  },
  {
   "cell_type": "markdown",
   "source": "For the most part it seems like lemmatization works better as a cleaning and normalization technique since some of the words got cut off or mixed up during the stemming process. To compare the two lemmatization techniques used would be hard since it seems like they are very similar. The only real differences being which words stay singular / plural and which are changes. Other than that the two techniques seem to be very similar.",
   "metadata": {
    "tags": [],
    "cell_id": "00018-b1c47862-1e67-4695-9829-2719166d801d",
    "deepnote_cell_type": "markdown"
   }
  },
  {
   "cell_type": "markdown",
   "source": "Task 6\n\nCreating a function to remove stop words from the corpus of data. \nOther words:\n\nany              and\n\nanything         ch\n\nanybody          st\n\nanyone\n\nanyhow\n\nanywhere",
   "metadata": {
    "tags": [],
    "cell_id": "00015-d048292d-1af6-491d-a3df-08d916e5ebb7",
    "deepnote_cell_type": "markdown"
   }
  },
  {
   "cell_type": "code",
   "metadata": {
    "tags": [],
    "cell_id": "00017-bc367de8-31d3-4839-a0dd-c05bc0724cfe",
    "deepnote_to_be_reexecuted": false,
    "source_hash": "81e00c0b",
    "execution_start": 1635901798865,
    "execution_millis": 172,
    "deepnote_cell_type": "code"
   },
   "source": "from nltk.corpus import stopwords\nfrom nltk.tokenize import word_tokenize\nsample=random.choice(sentences)\nwith open(\"stopwords.txt\", \"r\") as f_in:\n    stop_words = [i.strip().lower() for i in f_in.readlines()]\n\nprint(\" \".join([token for token in sample.split(\" \") if token not in stop_words]))\n",
   "execution_count": null,
   "outputs": [
    {
     "name": "stdout",
     "text": "Edward Jones received highest score among employee advisors J.D. Power 2007, 2008, 2010, 2012-2015, 2017-2019 Financial Advisor Satisfaction Studies investors’ satisfaction financial investment firm. From airport, rental car lot, big game, we're teaming new locations innovations. Enter U.S. CLEAR Pass – free app authorized U.S. Customs Border Protection Mobile Passport Control. Make everyday experiences easier safer everyone CLEAR's established platform. accountant client. Unless express agreement made contrary, standard work required accountant defined Section 13 Supply Goods Services Act 1982: contract supply service supplier acting course business, Revised Fall 2012 Page 3 19 Solution #1 a) Cash 16,000 Capital Stock 16,000 b) Rent Expense 3,000 Cash 3,000 c) Supplies 1,200 Accounts Payable 1,200 d) Accounts Payable 800 Cash 800 e) Accounts Receivable 22,500 Sales Commissions 22,500 f) Automobile Expenses 2,900 Misc. Expenses 1,450 Cash 4,350 g) Salaries Expense 4,200 Cash 4,200 Revised Fall 2012 Page 2 29 Chapter 2 – Accounting Transactions ... additional investments 2008 dividends $15,000 paid 2008. Problem 2 - Changes owner's equity Determine net income (or net loss) year, assuming additional capital Frank Lloyd Wright Accounting 2102S, Principles Accounting II Spring Semester, 2014 Managerial accounting involves number quantitative tools aimed making You may use new used copy Braun Tietz, Managerial Accounting, third edition. . test missed Accounting 2102S, valid reason, generally involving . AlevelApi free resource site Advanced Level Students In Sri Lanka. AlevelApi founded October 2018 Kavindu Piyumantha. The main goal site provide Past Papers, Marking Schemes, Notes, Advanced Level resources allow students improve knowledge. topic dealt article published student accountant October 2005. Unit trusts REITs treated specific topic Part A2(b) (ii). The article unit trusts REITs published March 2006 student accountant updated incorporate recent changes law. TERMINOLOGY 2. Basic Accounting Terms 3—5 3. Theory Base Accounting : Accounting Principles 5—7 4. Accounting Standards IFRS 7—8 5. Process Bases Accounting 8—9 6. Source Documents Vouchers 9—10 7. Accounting Equation 10—11 8. Double Entry System Rules Debit Credit 11—12 9. This happened 2007 2008. 9,10,11 The program tracks mutations occur among individuals modelled population using process authors call ‘genetic accounting’. When simulated mutation occurs, assigned identifier, location chromosome, ‘fitness’ score using values come ... L e r n r e. S g n n see search history different browsers computers. Reaching clear decision meeting action plan assignment responsibility, ... Originated: 8/19/2008 Revised: 4/20/2010 . ... (CWA) tax accounting. II. SOURCE OF CAPITAL FUNDS In 2009, judged one 100 influential members accounting profession Accounting Today. Joe two market-leading textbooks published McGraw-Hill— Advanced Accounting (eleventh edition, 2012) Essentials Advanced Accounting (fifth edition, 2012), coauthored Tom Schaefer University ... Google Finance provides real-time market quotes, international exchanges, up-to-date financial news, analytics help make informed trading investment decisions. Explore official website State Texas. We'll help government services, information, resources need. Shop deals unlimited data plans, Internet service, DIRECTV STREAM. Get 24/7 support & manage account online. Buy new iPhone 13 AT&T. Sign iCloud access photos, videos, documents, notes, contacts, more. Use Apple ID create new account start using Apple services. The Pandora Papers show king acquired nearly 80 per cent properties 2008 2017. In 2012, king bought one high-end Washington, D.C., properties, thousands ... Order starting 5:00 a.m. PDT 10.8 Available starting 10.15. Learn more. Apple Fitness plus. Now Pilates, Group Workouts 1, guided Meditation. Learn Try free 2. iPad mini. Mega power. Mini sized. Learn Buy.\n",
     "output_type": "stream"
    }
   ]
  },
  {
   "cell_type": "markdown",
   "source": "Task 7\n\nAre you happy about the end result? What observation can you make on the advantages and drawbacks of cleaning using each technique?\n\nWe're pretty happy about the end result and the dataset look much better with less digits, links, common wrods and so on. \nTo work with Regex, we created a pattern to match with any phone number because there were many foreign numbers in the dataset, and it is such precise tool to specify a search pattern. \nStemming technique was confusing first because we didn't realize to split sentences to words /list/ to make it work. We used split(' ') to split sentences into words and it worked. ",
   "metadata": {
    "tags": [],
    "cell_id": "00016-aee3a579-aa38-4cfc-8b74-42a7c73b2196",
    "deepnote_cell_type": "markdown"
   }
  },
  {
   "cell_type": "markdown",
   "source": "Task 8 (Optional)\n\nTry to create a function to solve mispellings",
   "metadata": {
    "tags": [],
    "cell_id": "00017-b323acf3-4dd8-459e-86f9-eeaf4f92eeff",
    "deepnote_cell_type": "markdown"
   }
  },
  {
   "cell_type": "code",
   "metadata": {
    "tags": [],
    "cell_id": "00022-e4eaffa3-82c6-4db4-8ab3-7e98bc7ca244",
    "deepnote_to_be_reexecuted": false,
    "source_hash": "ea35c559",
    "execution_start": 1635901798891,
    "execution_millis": 3813,
    "deepnote_cell_type": "code"
   },
   "source": "!pip install pyspellchecker",
   "execution_count": null,
   "outputs": [
    {
     "name": "stdout",
     "text": "Collecting pyspellchecker\n  Downloading pyspellchecker-0.6.2-py3-none-any.whl (2.7 MB)\n\u001b[K     |████████████████████████████████| 2.7 MB 18.0 MB/s \n\u001b[?25hInstalling collected packages: pyspellchecker\nSuccessfully installed pyspellchecker-0.6.2\n\u001b[33mWARNING: You are using pip version 21.2.4; however, version 21.3.1 is available.\nYou should consider upgrading via the '/root/venv/bin/python -m pip install --upgrade pip' command.\u001b[0m\n",
     "output_type": "stream"
    }
   ]
  },
  {
   "cell_type": "code",
   "metadata": {
    "tags": [],
    "cell_id": "00024-c32471ac-3fc4-4157-bb96-4dc81e70ca95",
    "deepnote_to_be_reexecuted": false,
    "source_hash": "53a6f076",
    "execution_start": 1635901802715,
    "execution_millis": 14554,
    "deepnote_cell_type": "code"
   },
   "source": "from spellchecker import SpellChecker\n\nspell = SpellChecker()\n\nprint(sample)\nfor word in sample.split(\" \"):\n    if word != \" \":\n        spellcheck = spell.correction(word)\n        print(word, \" - \", spellcheck)\n\n# misspelled = spell.unknown(sample.split(' '))\n\n# for word in misspelled:\n# Get the one `most likely` answer\n#   print(spell.correction(word))\n\n# Get a list of `likely` options\n#  print(spell.candidates(word))\n",
   "execution_count": null,
   "outputs": [
    {
     "name": "stdout",
     "text": "Edward Jones received the highest score among employee advisors in the J.D. Power 2007, 2008, 2010, 2012-2015, 2017-2019 Financial Advisor Satisfaction Studies of investors’ satisfaction with their financial investment firm. From the airport, to the rental car lot, to the big game, we're teaming up for new locations and innovations. Enter the U.S. with CLEAR Pass – a free app authorized by U.S. Customs and Border Protection for Mobile Passport Control. Make everyday experiences easier and safer for everyone with CLEAR's established platform. an accountant and his or her client. Unless an express agreement is made between them to the contrary, the standard of work required of an accountant is defined by Section 13 of the Supply of Goods and Services Act 1982: in a contract for the supply of a service where the supplier is acting in the course of a business, Revised Fall 2012 Page 3 of 19 Solution #1 a) Cash 16,000 Capital Stock 16,000 b) Rent Expense 3,000 Cash 3,000 c) Supplies 1,200 Accounts Payable 1,200 d) Accounts Payable 800 Cash 800 e) Accounts Receivable 22,500 Sales Commissions 22,500 f) Automobile Expenses 2,900 Misc. Expenses 1,450 Cash 4,350 g) Salaries Expense 4,200 Cash 4,200 Revised Fall 2012 Page 2 of 29 Chapter 2 – Accounting for Transactions ... additional investments in 2008 and dividends of $15,000 were paid in 2008. Problem 2 - Changes in owner's equity Determine the net income (or net loss) for the year, assuming that additional capital Frank Lloyd Wright Accounting 2102S, Principles of Accounting II Spring Semester, 2014 Managerial accounting involves a number of quantitative tools aimed at making You may use a new or used copy of Braun and Tietz, Managerial Accounting, third edition. . where the test was missed for a Accounting 2102S, valid reason, generally involving a . AlevelApi is a free resource site for Advanced Level Students In Sri Lanka. AlevelApi was founded in October 2018 by Kavindu Piyumantha. The main goal of this site is to provide Past Papers, Marking Schemes, Notes, and other Advanced Level resources that allow students to improve their knowledge. topic was dealt with in an article published in student accountant in October 2005. Unit trusts and REITs are treated as a specific topic under Part A2(b) (ii). The article on unit trusts and REITs published in the March 2006 of student accountant is now being updated to incorporate recent changes in the law. TERMINOLOGY 2. Basic Accounting Terms 3—5 3. Theory Base of Accounting : Accounting Principles 5—7 4. Accounting Standards and IFRS 7—8 5. Process and Bases of Accounting 8—9 6. Source Documents and Vouchers 9—10 7. Accounting Equation 10—11 8. Double Entry System and Rules of Debit and Credit 11—12 9. This happened in 2007 and 2008. 9,10,11 The program tracks all the mutations that occur among the individuals in a modelled population using a process the authors call ‘genetic accounting’. When a simulated mutation occurs, it is assigned an identifier, a location on a chromosome, and a ‘fitness’ score using values that come from ... L e a r n m o r e. S i g n i n to see your search history on different browsers and computers. Reaching a clear decision at that meeting with an action plan and assignment of responsibility, or ... Originated: 8/19/2008 Revised: 4/20/2010 . ... (CWA) tax accounting. II. SOURCE OF CAPITAL FUNDS In 2009, he was judged to be one of the 100 most influential members of the accounting profession by Accounting Today. Joe has two market-leading textbooks published with McGraw-Hill— Advanced Accounting (eleventh edition, 2012) and Essentials of Advanced Accounting (fifth edition, 2012), both coauthored with Tom Schaefer of the University of ... Google Finance provides real-time market quotes, international exchanges, up-to-date financial news, and analytics to help you make more informed trading and investment decisions. Explore the official website of the State of Texas. We'll help you find the government services, information, and resources you need. Shop deals on unlimited data plans, Internet service, and DIRECTV STREAM. Get 24/7 support & manage your account online. Buy the new iPhone 13 from AT&T. Sign in to iCloud to access your photos, videos, documents, notes, contacts, and more. Use your Apple ID or create a new account to start using Apple services. The Pandora Papers show the king acquired nearly 80 per cent of the properties between 2008 and 2017. In 2012, while the king bought one of his high-end Washington, D.C., properties, thousands of ... Order starting at 5:00 a.m. PDT on 10.8 Available starting 10.15. Learn more. Apple Fitness plus. Now with Pilates, Group Workouts 1, and guided Meditation. Learn more Try it free 2. iPad mini. Mega power. Mini sized. Learn more Buy.\nEdward  -  Edward\nJones  -  Jones\nreceived  -  received\nthe  -  the\nhighest  -  highest\nscore  -  score\namong  -  among\nemployee  -  employee\nadvisors  -  advisors\nin  -  in\nthe  -  the\nJ.D.  -  jade\nPower  -  Power\n2007,  -  2007,\n2008,  -  2008,\n2010,  -  2010,\n2012-2015,  -  2012-2015,\n2017-2019  -  2017-2019\nFinancial  -  Financial\nAdvisor  -  Advisor\nSatisfaction  -  Satisfaction\nStudies  -  Studies\nof  -  of\ninvestors’  -  investors\nsatisfaction  -  satisfaction\nwith  -  with\ntheir  -  their\nfinancial  -  financial\ninvestment  -  investment\nfirm.  -  firm\nFrom  -  From\nthe  -  the\nairport,  -  airport\nto  -  to\nthe  -  the\nrental  -  rental\ncar  -  car\nlot,  -  lot\nto  -  to\nthe  -  the\nbig  -  big\ngame,  -  game\nwe're  -  we're\nteaming  -  teaming\nup  -  up\nfor  -  for\nnew  -  new\nlocations  -  locations\nand  -  and\ninnovations.  -  innovations\nEnter  -  Enter\nthe  -  the\nU.S.  -  us\nwith  -  with\nCLEAR  -  CLEAR\nPass  -  Pass\n–  -  i\na  -  a\nfree  -  free\napp  -  app\nauthorized  -  authorized\nby  -  by\nU.S.  -  us\nCustoms  -  Customs\nand  -  and\nBorder  -  Border\nProtection  -  Protection\nfor  -  for\nMobile  -  Mobile\nPassport  -  Passport\nControl.  -  control\nMake  -  Make\neveryday  -  everyday\nexperiences  -  experiences\neasier  -  easier\nand  -  and\nsafer  -  safer\nfor  -  for\neveryone  -  everyone\nwith  -  with\nCLEAR's  -  clears\nestablished  -  established\nplatform.  -  platform\nan  -  an\naccountant  -  accountant\nand  -  and\nhis  -  his\nor  -  or\nher  -  her\nclient.  -  client\nUnless  -  Unless\nan  -  an\nexpress  -  express\nagreement  -  agreement\nis  -  is\nmade  -  made\nbetween  -  between\nthem  -  them\nto  -  to\nthe  -  the\ncontrary,  -  contrary\nthe  -  the\nstandard  -  standard\nof  -  of\nwork  -  work\nrequired  -  required\nof  -  of\nan  -  an\naccountant  -  accountant\nis  -  is\ndefined  -  defined\nby  -  by\nSection  -  Section\n13  -  13\nof  -  of\nthe  -  the\nSupply  -  Supply\nof  -  of\nGoods  -  Goods\nand  -  and\nServices  -  Services\nAct  -  Act\n1982:  -  1982:\nin  -  in\na  -  a\ncontract  -  contract\nfor  -  for\nthe  -  the\nsupply  -  supply\nof  -  of\na  -  a\nservice  -  service\nwhere  -  where\nthe  -  the\nsupplier  -  supplier\nis  -  is\nacting  -  acting\nin  -  in\nthe  -  the\ncourse  -  course\nof  -  of\na  -  a\nbusiness,  -  business\nRevised  -  Revised\nFall  -  Fall\n2012  -  2012\nPage  -  Page\n3  -  3\nof  -  of\n19  -  19\nSolution  -  Solution\n#1  -  i\na)  -  a\nCash  -  Cash\n16,000  -  16,000\nCapital  -  Capital\nStock  -  Stock\n16,000  -  16,000\nb)  -  be\nRent  -  Rent\nExpense  -  Expense\n3,000  -  3,000\nCash  -  Cash\n3,000  -  3,000\nc)  -  ca\nSupplies  -  Supplies\n1,200  -  1,200\nAccounts  -  Accounts\nPayable  -  Payable\n1,200  -  1,200\nd)  -  do\nAccounts  -  Accounts\nPayable  -  Payable\n800  -  800\nCash  -  Cash\n800  -  800\ne)  -  e\nAccounts  -  Accounts\nReceivable  -  Receivable\n22,500  -  22,500\nSales  -  Sales\nCommissions  -  Commissions\n22,500  -  22,500\nf)  -  fu\nAutomobile  -  Automobile\nExpenses  -  Expenses\n2,900  -  2,900\nMisc.  -  miss\nExpenses  -  Expenses\n1,450  -  1,450\nCash  -  Cash\n4,350  -  4,350\ng)  -  go\nSalaries  -  Salaries\nExpense  -  Expense\n4,200  -  4,200\nCash  -  Cash\n4,200  -  4,200\nRevised  -  Revised\nFall  -  Fall\n2012  -  2012\nPage  -  Page\n2  -  2\nof  -  of\n29  -  29\nChapter  -  Chapter\n2  -  2\n–  -  i\nAccounting  -  Accounting\nfor  -  for\nTransactions  -  Transactions\n...  -  ...\nadditional  -  additional\ninvestments  -  investments\nin  -  in\n2008  -  2008\nand  -  and\ndividends  -  dividends\nof  -  of\n$15,000  -  $15,000\nwere  -  were\npaid  -  paid\nin  -  in\n2008.  -  2008.\nProblem  -  Problem\n2  -  2\n-  -  -\nChanges  -  Changes\nin  -  in\nowner's  -  owner's\nequity  -  equity\nDetermine  -  Determine\nthe  -  the\nnet  -  net\nincome  -  income\n(or  -  for\nnet  -  net\nloss)  -  loss\nfor  -  for\nthe  -  the\nyear,  -  years\nassuming  -  assuming\nthat  -  that\nadditional  -  additional\ncapital  -  capital\nFrank  -  Frank\nLloyd  -  Lloyd\nWright  -  Wright\nAccounting  -  Accounting\n2102S,  -  2102S,\nPrinciples  -  Principles\nof  -  of\nAccounting  -  Accounting\nII  -  II\nSpring  -  Spring\nSemester,  -  semester\n2014  -  2014\nManagerial  -  Managerial\naccounting  -  accounting\ninvolves  -  involves\na  -  a\nnumber  -  number\nof  -  of\nquantitative  -  quantitative\ntools  -  tools\naimed  -  aimed\nat  -  at\nmaking  -  making\nYou  -  You\nmay  -  may\nuse  -  use\na  -  a\nnew  -  new\nor  -  or\nused  -  used\ncopy  -  copy\nof  -  of\nBraun  -  Braun\nand  -  and\nTietz,  -  dietz\nManagerial  -  Managerial\nAccounting,  -  accounting\nthird  -  third\nedition.  -  edition\n.  -  .\nwhere  -  where\nthe  -  the\ntest  -  test\nwas  -  was\nmissed  -  missed\nfor  -  for\na  -  a\nAccounting  -  Accounting\n2102S,  -  2102S,\nvalid  -  valid\nreason,  -  reason\ngenerally  -  generally\ninvolving  -  involving\na  -  a\n.  -  .\nAlevelApi  -  AlevelApi\nis  -  is\na  -  a\nfree  -  free\nresource  -  resource\nsite  -  site\nfor  -  for\nAdvanced  -  Advanced\nLevel  -  Level\nStudents  -  Students\nIn  -  In\nSri  -  Sri\nLanka.  -  lanka\nAlevelApi  -  AlevelApi\nwas  -  was\nfounded  -  founded\nin  -  in\nOctober  -  October\n2018  -  2018\nby  -  by\nKavindu  -  kalinda\nPiyumantha.  -  Piyumantha.\nThe  -  The\nmain  -  main\ngoal  -  goal\nof  -  of\nthis  -  this\nsite  -  site\nis  -  is\nto  -  to\nprovide  -  provide\nPast  -  Past\nPapers,  -  papers\nMarking  -  Marking\nSchemes,  -  schemes\nNotes,  -  notes\nand  -  and\nother  -  other\nAdvanced  -  Advanced\nLevel  -  Level\nresources  -  resources\nthat  -  that\nallow  -  allow\nstudents  -  students\nto  -  to\nimprove  -  improve\ntheir  -  their\nknowledge.  -  knowledge\ntopic  -  topic\nwas  -  was\ndealt  -  dealt\nwith  -  with\nin  -  in\nan  -  an\narticle  -  article\npublished  -  published\nin  -  in\nstudent  -  student\naccountant  -  accountant\nin  -  in\nOctober  -  October\n2005.  -  2005.\nUnit  -  Unit\ntrusts  -  trusts\nand  -  and\nREITs  -  rests\nare  -  are\ntreated  -  treated\nas  -  as\na  -  a\nspecific  -  specific\ntopic  -  topic\nunder  -  under\nPart  -  Part\nA2(b)  -  A2(b)\n(ii).  -  (ii).\nThe  -  The\narticle  -  article\non  -  on\nunit  -  unit\ntrusts  -  trusts\nand  -  and\nREITs  -  rests\npublished  -  published\nin  -  in\nthe  -  the\nMarch  -  March\n2006  -  2006\nof  -  of\nstudent  -  student\naccountant  -  accountant\nis  -  is\nnow  -  now\nbeing  -  being\nupdated  -  updated\nto  -  to\nincorporate  -  incorporate\nrecent  -  recent\nchanges  -  changes\nin  -  in\nthe  -  the\nlaw.  -  law\nTERMINOLOGY  -  TERMINOLOGY\n2.  -  2.\nBasic  -  Basic\nAccounting  -  Accounting\nTerms  -  Terms\n3—5  -  3—5\n3.  -  3.\nTheory  -  Theory\nBase  -  Base\nof  -  of\nAccounting  -  Accounting\n:  -  :\nAccounting  -  Accounting\nPrinciples  -  Principles\n5—7  -  5—7\n4.  -  4.\nAccounting  -  Accounting\nStandards  -  Standards\nand  -  and\nIFRS  -  ifs\n7—8  -  7—8\n5.  -  5.\nProcess  -  Process\nand  -  and\nBases  -  Bases\nof  -  of\nAccounting  -  Accounting\n8—9  -  8—9\n6.  -  6.\nSource  -  Source\nDocuments  -  Documents\nand  -  and\nVouchers  -  Vouchers\n9—10  -  9—10\n7.  -  7.\nAccounting  -  Accounting\nEquation  -  Equation\n10—11  -  10—11\n8.  -  8.\nDouble  -  Double\nEntry  -  Entry\nSystem  -  System\nand  -  and\nRules  -  Rules\nof  -  of\nDebit  -  Debit\nand  -  and\nCredit  -  Credit\n11—12  -  11—12\n9.  -  9.\nThis  -  This\nhappened  -  happened\nin  -  in\n2007  -  2007\nand  -  and\n2008.  -  2008.\n9,10,11  -  9,10,11\nThe  -  The\nprogram  -  program\ntracks  -  tracks\nall  -  all\nthe  -  the\nmutations  -  mutations\nthat  -  that\noccur  -  occur\namong  -  among\nthe  -  the\nindividuals  -  individuals\nin  -  in\na  -  a\nmodelled  -  modelled\npopulation  -  population\nusing  -  using\na  -  a\nprocess  -  process\nthe  -  the\nauthors  -  authors\ncall  -  call\n‘genetic  -  genetic\naccounting’.  -  accounting\nWhen  -  When\na  -  a\nsimulated  -  simulated\nmutation  -  mutation\noccurs,  -  occurs\nit  -  it\nis  -  is\nassigned  -  assigned\nan  -  an\nidentifier,  -  identifier\na  -  a\nlocation  -  location\non  -  on\na  -  a\nchromosome,  -  chromosome\nand  -  and\na  -  a\n‘fitness’  -  fitness\nscore  -  score\nusing  -  using\nvalues  -  values\nthat  -  that\ncome  -  come\nfrom  -  from\n...  -  ...\nL  -  i\ne  -  e\na  -  a\nr  -  i\nn  -  i\nm  -  i\no  -  o\nr  -  i\ne.  -  e\nS  -  i\ni  -  i\ng  -  i\nn  -  i\ni  -  i\nn  -  i\nto  -  to\nsee  -  see\nyour  -  your\nsearch  -  search\nhistory  -  history\non  -  on\ndifferent  -  different\nbrowsers  -  browsers\nand  -  and\ncomputers.  -  computers\nReaching  -  Reaching\na  -  a\nclear  -  clear\ndecision  -  decision\nat  -  at\nthat  -  that\nmeeting  -  meeting\nwith  -  with\nan  -  an\naction  -  action\nplan  -  plan\nand  -  and\nassignment  -  assignment\nof  -  of\nresponsibility,  -  responsibility\nor  -  or\n...  -  ...\nOriginated:  -  originated\n8/19/2008  -  8/19/2008\nRevised:  -  revised\n4/20/2010  -  4/20/2010\n.  -  .\n...  -  ...\n(CWA)  -  (CWA)\ntax  -  tax\naccounting.  -  accounting\nII.  -  ii\nSOURCE  -  SOURCE\nOF  -  OF\nCAPITAL  -  CAPITAL\nFUNDS  -  FUNDS\nIn  -  In\n2009,  -  2009,\nhe  -  he\nwas  -  was\njudged  -  judged\nto  -  to\nbe  -  be\none  -  one\nof  -  of\nthe  -  the\n100  -  100\nmost  -  most\ninfluential  -  influential\nmembers  -  members\nof  -  of\nthe  -  the\naccounting  -  accounting\nprofession  -  profession\nby  -  by\nAccounting  -  Accounting\nToday.  -  today\nJoe  -  Joe\nhas  -  has\ntwo  -  two\nmarket-leading  -  market-leading\ntextbooks  -  textbooks\npublished  -  published\nwith  -  with\nMcGraw-Hill—  -  McGraw-Hill—\nAdvanced  -  Advanced\nAccounting  -  Accounting\n(eleventh  -  eleventh\nedition,  -  edition\n2012)  -  2012)\nand  -  and\nEssentials  -  Essentials\nof  -  of\nAdvanced  -  Advanced\nAccounting  -  Accounting\n(fifth  -  fifth\nedition,  -  edition\n2012),  -  2012),\nboth  -  both\ncoauthored  -  coauthored\nwith  -  with\nTom  -  Tom\nSchaefer  -  Schaefer\nof  -  of\nthe  -  the\nUniversity  -  University\nof  -  of\n...  -  ...\nGoogle  -  Google\nFinance  -  Finance\nprovides  -  provides\nreal-time  -  realtime\nmarket  -  market\nquotes,  -  quotes\ninternational  -  international\nexchanges,  -  exchanges\nup-to-date  -  up-to-date\nfinancial  -  financial\nnews,  -  news\nand  -  and\nanalytics  -  analytics\nto  -  to\nhelp  -  help\nyou  -  you\nmake  -  make\nmore  -  more\ninformed  -  informed\ntrading  -  trading\nand  -  and\ninvestment  -  investment\ndecisions.  -  decisions\nExplore  -  Explore\nthe  -  the\nofficial  -  official\nwebsite  -  website\nof  -  of\nthe  -  the\nState  -  State\nof  -  of\nTexas.  -  texas\nWe'll  -  We'll\nhelp  -  help\nyou  -  you\nfind  -  find\nthe  -  the\ngovernment  -  government\nservices,  -  services\ninformation,  -  information\nand  -  and\nresources  -  resources\nyou  -  you\nneed.  -  need\nShop  -  Shop\ndeals  -  deals\non  -  on\nunlimited  -  unlimited\ndata  -  data\nplans,  -  plans\nInternet  -  Internet\nservice,  -  service\nand  -  and\nDIRECTV  -  direct\nSTREAM.  -  stream\nGet  -  Get\n24/7  -  24/7\nsupport  -  support\n&  -  &\nmanage  -  manage\nyour  -  your\naccount  -  account\nonline.  -  online\nBuy  -  Buy\nthe  -  the\nnew  -  new\niPhone  -  iPhone\n13  -  13\nfrom  -  from\nAT&T.  -  atta\nSign  -  Sign\nin  -  in\nto  -  to\niCloud  -  iCloud\nto  -  to\naccess  -  access\nyour  -  your\nphotos,  -  photos\nvideos,  -  videos\ndocuments,  -  documents\nnotes,  -  notes\ncontacts,  -  contacts\nand  -  and\nmore.  -  more\nUse  -  Use\nyour  -  your\nApple  -  Apple\nID  -  ID\nor  -  or\ncreate  -  create\na  -  a\nnew  -  new\naccount  -  account\nto  -  to\nstart  -  start\nusing  -  using\nApple  -  Apple\nservices.  -  services\nThe  -  The\nPandora  -  Pandora\nPapers  -  Papers\nshow  -  show\nthe  -  the\nking  -  king\nacquired  -  acquired\nnearly  -  nearly\n80  -  80\nper  -  per\ncent  -  cent\nof  -  of\nthe  -  the\nproperties  -  properties\nbetween  -  between\n2008  -  2008\nand  -  and\n2017.  -  2017.\nIn  -  In\n2012,  -  2012,\nwhile  -  while\nthe  -  the\nking  -  king\nbought  -  bought\none  -  one\nof  -  of\nhis  -  his\nhigh-end  -  highland\nWashington,  -  washington\nD.C.,  -  D.C.,\nproperties,  -  properties\nthousands  -  thousands\nof  -  of\n...  -  ...\nOrder  -  Order\nstarting  -  starting\nat  -  at\n5:00  -  5:00\na.m.  -  am\nPDT  -  put\non  -  on\n10.8  -  10.8\nAvailable  -  Available\nstarting  -  starting\n10.15.  -  10.15.\nLearn  -  Learn\nmore.  -  more\nApple  -  Apple\nFitness  -  Fitness\nplus.  -  plus\nNow  -  Now\nwith  -  with\nPilates,  -  pilates\nGroup  -  Group\nWorkouts  -  Workouts\n1,  -  i\nand  -  and\nguided  -  guided\nMeditation.  -  meditation\nLearn  -  Learn\nmore  -  more\nTry  -  Try\nit  -  it\nfree  -  free\n2.  -  2.\niPad  -  iPad\nmini.  -  mini\nMega  -  Mega\npower.  -  power\nMini  -  Mini\nsized.  -  sized\nLearn  -  Learn\nmore  -  more\nBuy.  -  buy\n",
     "output_type": "stream"
    }
   ]
  },
  {
   "cell_type": "markdown",
   "source": "<a style='text-decoration:none;line-height:16px;display:flex;color:#5B5B62;padding:10px;justify-content:end;' href='https://deepnote.com?utm_source=created-in-deepnote-cell&projectId=fb3de8ef-fb47-4eee-bfce-0a5c05122f97' target=\"_blank\">\n<img alt='Created in deepnote.com' style='display:inline;max-height:16px;margin:0px;margin-right:7.5px;' src='data:image/svg+xml;base64,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' > </img>\nCreated in <span style='font-weight:600;margin-left:4px;'>Deepnote</span></a>",
   "metadata": {
    "tags": [],
    "created_in_deepnote_cell": true,
    "deepnote_cell_type": "markdown"
   }
  }
 ],
 "nbformat": 4,
 "nbformat_minor": 2,
 "metadata": {
  "orig_nbformat": 2,
  "deepnote": {
   "is_reactive": false
  },
  "deepnote_notebook_id": "ac13cba0-d5ae-46d2-a098-b900a4214980",
  "deepnote_execution_queue": []
 }
}